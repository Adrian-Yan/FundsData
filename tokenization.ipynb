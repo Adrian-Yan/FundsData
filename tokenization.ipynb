{
 "cells": [
  {
   "cell_type": "code",
   "execution_count": 29,
   "metadata": {},
   "outputs": [],
   "source": [
    "from PyPDF2 import PdfReader\n",
    "import os\n",
    "import re\n",
    "import pandas as pd\n",
    "import numpy as np\n",
    "\n",
    "path = \"data/Key_Stats/\"\n",
    "files = os.listdir(path)\n",
    "\n",
    "dir1 = path + files[178]"
   ]
  },
  {
   "cell_type": "code",
   "execution_count": 8,
   "metadata": {},
   "outputs": [],
   "source": [
    "# tokenize the string with distance index\n",
    "def tokenize(string):\n",
    "    string = string.lower()\n",
    "    # keep english and numbers with '%'\n",
    "\n",
    "    string = re.sub(r'[^a-z0-9% ]', ' ', string)\n",
    "    string = re.sub(r' +', ' ', string)\n",
    "    # delete empty string\n",
    "    string = string.strip()\n",
    "    return string.split(' ')\n",
    "\n",
    "def read_pages(dir):\n",
    "    text = ''\n",
    "    pdf = PdfReader(dir)\n",
    "    for page in pdf.pages:\n",
    "        text += page.extract_text()\n",
    "    return text\n",
    "\n",
    "def full_text(text):\n",
    "    text = re.sub(r'[^\\x00-\\x7F]+',' ', text) # only english\n",
    "    text = re.sub(r'[\\n\\t]+', ' ', text) # delete '\\n' and '\\t'\n",
    "    text = re.sub(r' +', ' ', text) # delete multiple spaces\n",
    "    return text\n",
    "\n",
    "def file_id(file):\n",
    "    pattern = r'[A-Z]{3,3}[0-9]{3,3}'\n",
    "    return re.findall(pattern, file)"
   ]
  },
  {
   "cell_type": "code",
   "execution_count": 24,
   "metadata": {},
   "outputs": [],
   "source": [
    "# divide the full text\n",
    "section_dict = {'fact':['quick facts'], \\\n",
    "                'strategy':['objective and investment strategy', 'objectives and investment strategy'], \\\n",
    "                'derivative':['use of derivatives', 'investment in derivatives'], \\\n",
    "                'risk':['what are the key risks'], \\\n",
    "                'performance':['how has the sub-fund performed?','how has the sub -fund performed?', 'how has the fund performed'], \\\n",
    "                'guarantee':['is there any guarantee'], \\\n",
    "                'fees':['what are the fees and charges?', 'what are the fees?'], \\\n",
    "                'misc':['additional information']\n",
    "                }\n",
    "\n",
    "# divide the full text\n",
    "'''\n",
    "def division(text):\n",
    "    section = {}\n",
    "    for key in section_dict['fact']:\n",
    "        if key in text:\n",
    "            pattern = '|'.join(key)\n",
    "            temp = re.split(pattern, text, flags=re.IGNORECASE)[0]\n",
    "            text = re.split(pattern, text, flags=re.IGNORECASE)[1]\n",
    "            section['head'] = temp\n",
    "            break\n",
    "    for key in section_dict['strategy']:\n",
    "        if key in text:\n",
    "            pattern = '|'.join(key)\n",
    "            temp = re.split(pattern, text, flags=re.IGNORECASE)[0]\n",
    "            text = re.split(pattern, text, flags=re.IGNORECASE)[1]\n",
    "            section['fact'] = temp\n",
    "            break\n",
    "    for key in section_dict['derivative']:\n",
    "        if key in text:\n",
    "            pattern = '|'.join(key)\n",
    "            temp = re.split(pattern, text, flags=re.IGNORECASE)[0]\n",
    "            text = re.split(pattern, text, flags=re.IGNORECASE)[1]\n",
    "            section['strategy'] = temp\n",
    "            break\n",
    "    \n",
    "    return section\n",
    "'''\n",
    "\n",
    "def division(text):\n",
    "    section = {}\n",
    "    for key in section_dict['fact']:\n",
    "        if key in text:\n",
    "            temp = text.split(key)[0]\n",
    "            text = text.split(key)[1]\n",
    "            section['head'] = temp\n",
    "            break\n",
    "    for key in section_dict['strategy']:\n",
    "        if key in text:\n",
    "            temp = text.split(key)[0]\n",
    "            text = text.split(key)[1]\n",
    "            section['fact'] = temp\n",
    "            break\n",
    "    for key in section_dict['derivative']:\n",
    "        if key in text:\n",
    "            temp = text.split(key)[0]\n",
    "            text = text.split(key)[1]\n",
    "            section['strategy'] = temp\n",
    "            break\n",
    "    for key in section_dict['risk']:\n",
    "        if key in text:\n",
    "            temp = text.split(key)[0]\n",
    "            text = text.split(key)[1]\n",
    "            section['derivative'] = temp\n",
    "            break\n",
    "    for key in section_dict['performance']:\n",
    "        if key in text:\n",
    "            temp = text.split(key)[0]\n",
    "            text = text.split(key)[1]\n",
    "            section['risk'] = temp\n",
    "            break\n",
    "    for key in section_dict['guarantee']:\n",
    "        if key in text:\n",
    "            temp = text.split(key)[0]\n",
    "            text = text.split(key)[1]\n",
    "            section['performance'] = temp\n",
    "            break\n",
    "    for key in section_dict['fees']:\n",
    "        if key in text:\n",
    "            temp = text.split(key)[0]\n",
    "            text = text.split(key)[1]\n",
    "            section['guarantee'] = temp\n",
    "            break\n",
    "    for key in section_dict['misc']:\n",
    "        if key in text:\n",
    "            temp = text.split(key)[0]\n",
    "            text = text.split(key)[1]\n",
    "            section['fees'] = temp\n",
    "            section['misc'] = text\n",
    "            break\n",
    "    return section"
   ]
  },
  {
   "cell_type": "code",
   "execution_count": 62,
   "metadata": {},
   "outputs": [],
   "source": [
    "full2 = full1.lower()\n",
    "a = division(full2)\n",
    "\n"
   ]
  },
  {
   "cell_type": "code",
   "execution_count": 30,
   "metadata": {},
   "outputs": [
    {
     "name": "stdout",
     "output_type": "stream",
     "text": [
      "0\n",
      "1\n",
      "2\n"
     ]
    },
    {
     "name": "stderr",
     "output_type": "stream",
     "text": [
      "XRef object at 221783 can not be read, some object may be missing\n"
     ]
    },
    {
     "name": "stdout",
     "output_type": "stream",
     "text": [
      "3\n"
     ]
    },
    {
     "ename": "KeyError",
     "evalue": "'derivative'",
     "output_type": "error",
     "traceback": [
      "\u001b[1;31m---------------------------------------------------------------------------\u001b[0m",
      "\u001b[1;31mKeyError\u001b[0m                                  Traceback (most recent call last)",
      "Cell \u001b[1;32mIn [30], line 10\u001b[0m\n\u001b[0;32m      8\u001b[0m doc_id \u001b[39m=\u001b[39m file_id(files[i])\n\u001b[0;32m      9\u001b[0m section \u001b[39m=\u001b[39m division(text\u001b[39m.\u001b[39mlower())\n\u001b[1;32m---> 10\u001b[0m data \u001b[39m=\u001b[39m pd\u001b[39m.\u001b[39mDataFrame({\u001b[39m'\u001b[39m\u001b[39mid\u001b[39m\u001b[39m'\u001b[39m:doc_id, \u001b[39m'\u001b[39m\u001b[39mhead\u001b[39m\u001b[39m'\u001b[39m:section[\u001b[39m'\u001b[39m\u001b[39mhead\u001b[39m\u001b[39m'\u001b[39m], \u001b[39m'\u001b[39m\u001b[39mfact\u001b[39m\u001b[39m'\u001b[39m:section[\u001b[39m'\u001b[39m\u001b[39mfact\u001b[39m\u001b[39m'\u001b[39m], \u001b[39m'\u001b[39m\u001b[39mstrategy\u001b[39m\u001b[39m'\u001b[39m:section[\u001b[39m'\u001b[39m\u001b[39mstrategy\u001b[39m\u001b[39m'\u001b[39m], \u001b[39m'\u001b[39m\u001b[39mderivative\u001b[39m\u001b[39m'\u001b[39m:section[\u001b[39m'\u001b[39;49m\u001b[39mderivative\u001b[39;49m\u001b[39m'\u001b[39;49m], \u001b[39m'\u001b[39m\u001b[39mrisk\u001b[39m\u001b[39m'\u001b[39m:section[\u001b[39m'\u001b[39m\u001b[39mrisk\u001b[39m\u001b[39m'\u001b[39m], \u001b[39m'\u001b[39m\u001b[39mperformance\u001b[39m\u001b[39m'\u001b[39m:section[\u001b[39m'\u001b[39m\u001b[39mperformance\u001b[39m\u001b[39m'\u001b[39m], \u001b[39m'\u001b[39m\u001b[39mguarantee\u001b[39m\u001b[39m'\u001b[39m:section[\u001b[39m'\u001b[39m\u001b[39mguarantee\u001b[39m\u001b[39m'\u001b[39m], \u001b[39m'\u001b[39m\u001b[39mfees\u001b[39m\u001b[39m'\u001b[39m:section[\u001b[39m'\u001b[39m\u001b[39mfees\u001b[39m\u001b[39m'\u001b[39m], \u001b[39m'\u001b[39m\u001b[39mmisc\u001b[39m\u001b[39m'\u001b[39m:section[\u001b[39m'\u001b[39m\u001b[39mmisc\u001b[39m\u001b[39m'\u001b[39m]}, index\u001b[39m=\u001b[39m[i])\n\u001b[0;32m     11\u001b[0m corpus \u001b[39m=\u001b[39m pd\u001b[39m.\u001b[39mconcat([corpus, data], axis\u001b[39m=\u001b[39m\u001b[39m0\u001b[39m)\n\u001b[0;32m     12\u001b[0m \u001b[39mprint\u001b[39m(i)\n",
      "\u001b[1;31mKeyError\u001b[0m: 'derivative'"
     ]
    }
   ],
   "source": [
    "# build the corpus\n",
    "corpus = pd.DataFrame(columns=['id', 'head', 'fact', 'strategy', 'derivative', 'risk', 'performance', 'guarantee', 'fees', 'misc'])\n",
    "\n",
    "for i in range(len(files)):\n",
    "    doc_dir = path + files[i]\n",
    "    raw = read_pages(doc_dir)\n",
    "    text = full_text(raw)\n",
    "    doc_id = file_id(files[i])\n",
    "    section = division(text.lower())\n",
    "    data = pd.DataFrame({'id':doc_id, 'head':section['head'], 'fact':section['fact'], 'strategy':section['strategy'], 'derivative':section['derivative'], 'risk':section['risk'], 'performance':section['performance'], 'guarantee':section['guarantee'], 'fees':section['fees'], 'misc':section['misc']}, index=[i])\n",
    "    corpus = pd.concat([corpus, data], axis=0)\n",
    "    print(i)\n",
    "    corpus.to_csv('data/corpus.csv', index=False)"
   ]
  },
  {
   "cell_type": "code",
   "execution_count": 9,
   "metadata": {},
   "outputs": [
    {
     "name": "stdout",
     "output_type": "stream",
     "text": [
      "178\n"
     ]
    }
   ],
   "source": [
    "corpus = pd.DataFrame(columns=['id', 'head', 'fact', 'strategy', 'derivative', 'risk', 'performance', 'guarantee', 'fees', 'misc'])\n",
    "i = 178\n",
    "doc_dir = path + files[i]\n",
    "raw = read_pages(doc_dir)\n",
    "text = full_text(raw)\n",
    "doc_id = file_id(files[i])\n",
    "section = division(text.lower())\n",
    "data = pd.DataFrame({'id':doc_id, 'head':section['head'], 'fact':section['fact'], 'strategy':section['strategy'], 'derivative':section['derivative'], 'risk':section['risk'], 'performance':section['performance'], 'guarantee':section['guarantee'], 'fees':section['fees'], 'misc':section['misc']}, index=[i])\n",
    "corpus = pd.concat([corpus, data], axis=0)\n",
    "print(i)\n",
    "corpus.to_csv('data/corpus.csv', index=False)"
   ]
  },
  {
   "cell_type": "code",
   "execution_count": 22,
   "metadata": {},
   "outputs": [
    {
     "data": {
      "text/plain": [
       "27090"
      ]
     },
     "execution_count": 22,
     "metadata": {},
     "output_type": "execute_result"
    }
   ],
   "source": [
    "text.find('performed?')"
   ]
  },
  {
   "cell_type": "code",
   "execution_count": 27,
   "metadata": {},
   "outputs": [
    {
     "data": {
      "text/plain": [
       "'3.5+Product_Key_Facts_China+Opportunities+Flexifund_EN_202.pdf'"
      ]
     },
     "execution_count": 27,
     "metadata": {},
     "output_type": "execute_result"
    }
   ],
   "source": [
    "files[i]"
   ]
  },
  {
   "cell_type": "code",
   "execution_count": null,
   "metadata": {},
   "outputs": [],
   "source": []
  }
 ],
 "metadata": {
  "kernelspec": {
   "display_name": "Python 3.9.13 ('base')",
   "language": "python",
   "name": "python3"
  },
  "language_info": {
   "codemirror_mode": {
    "name": "ipython",
    "version": 3
   },
   "file_extension": ".py",
   "mimetype": "text/x-python",
   "name": "python",
   "nbconvert_exporter": "python",
   "pygments_lexer": "ipython3",
   "version": "3.9.13"
  },
  "orig_nbformat": 4,
  "vscode": {
   "interpreter": {
    "hash": "72af1ffc75a182d8026fd8f0e4608e6219cf801f8e77b227b63b94805427af6d"
   }
  }
 },
 "nbformat": 4,
 "nbformat_minor": 2
}
