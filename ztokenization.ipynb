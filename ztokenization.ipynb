{
 "cells": [
  {
   "cell_type": "code",
   "execution_count": 1,
   "metadata": {},
   "outputs": [],
   "source": [
    "from PyPDF2 import PdfReader\n",
    "import pdfplumber\n",
    "import os\n",
    "import re\n",
    "import pandas as pd\n",
    "import numpy as np\n",
    "\n",
    "path = \"data/Key_Stats/\"\n",
    "files = os.listdir(path)\n",
    "\n",
    "#dir1 = path + files[178]"
   ]
  },
  {
   "cell_type": "code",
   "execution_count": 2,
   "metadata": {},
   "outputs": [],
   "source": [
    "# tokenize the string with distance index\n",
    "def tokenize(string):\n",
    "    string = string.lower()\n",
    "    # keep english and numbers with '%'\n",
    "\n",
    "    string = re.sub(r'[^a-z0-9% ]', ' ', string)\n",
    "    string = re.sub(r' +', ' ', string)\n",
    "    # delete empty string\n",
    "    string = string.strip()\n",
    "    return string.split(' ')\n",
    "'''\n",
    "def read_pages(dir):\n",
    "    text = ''\n",
    "    pdf = PdfReader(dir)\n",
    "    for page in pdf.pages:\n",
    "        text += page.extract_text()\n",
    "    return text\n",
    "'''\n",
    "\n",
    "def read_pages(dir):\n",
    "    with pdfplumber.open(dir) as pdf:\n",
    "        text = ''\n",
    "        for page in pdf.pages:\n",
    "            text += page.extract_text()\n",
    "    return text\n",
    "\n",
    "def full_text(text):\n",
    "    text = re.sub(r'[^\\x00-\\x7F]+',' ', text) # only english\n",
    "    text = re.sub(r'[\\n\\t]+', ' ', text) # delete '\\n' and '\\t'\n",
    "    text = re.sub(r' +', ' ', text) # delete multiple spaces\n",
    "    return text\n",
    "\n",
    "def file_id(file):\n",
    "    pattern = r'[A-Z]{3,3}[0-9]{3,3}'\n",
    "    return re.findall(pattern, file)"
   ]
  },
  {
   "cell_type": "code",
   "execution_count": 11,
   "metadata": {},
   "outputs": [],
   "source": [
    "# divide the full text\n",
    "section_dict = {'fact':['quick facts'], \\\n",
    "                'strategy':['objective and investment strategy', 'objectives and investment strategy'], \\\n",
    "                'derivative':['Use of derivatives / investment in derivatives', 'use of derivatives', 'investment in derivatives'], \\\n",
    "                'risk':['what are the key risks?', 'what are the key risk'], \\\n",
    "                'performance':['how has the sub-fund performed?','how has the sub -fund performed?', 'how has the fund performed'], \\\n",
    "                'guarantee':['is there any guarantee'], \\\n",
    "                'fees':['what are the fees and charges?', 'what are the fees?'], \\\n",
    "                'misc':['additional information']\n",
    "                }\n",
    "\n",
    "\n",
    "\n",
    "def division(text):\n",
    "    section = {}\n",
    "    for key in section_dict['fact']:\n",
    "        if key in text:\n",
    "            temp = text.split(key)[0]\n",
    "            text = text.split(key)[1]\n",
    "            section['head'] = temp\n",
    "            break\n",
    "    for key in section_dict['strategy']:\n",
    "        if key in text:\n",
    "            temp = text.split(key)[0]\n",
    "            text = text.split(key)[1]\n",
    "            section['fact'] = temp\n",
    "            break\n",
    "    for key in section_dict['derivative']:\n",
    "        if key in text:\n",
    "            temp = text.split(key)[0]\n",
    "            text = text.split(key)[1]\n",
    "            section['strategy'] = temp\n",
    "            break\n",
    "    for key in section_dict['risk']:\n",
    "        if key in text:\n",
    "            temp = text.split(key)[0]\n",
    "            text = text.split(key)[1]\n",
    "            section['derivative'] = temp\n",
    "            break\n",
    "    for key in section_dict['performance']:\n",
    "        if key in text:\n",
    "            temp = text.split(key)[0]\n",
    "            text = text.split(key)[1]\n",
    "            section['risk'] = temp\n",
    "            break\n",
    "    for key in section_dict['guarantee']:\n",
    "        if key in text:\n",
    "            temp = text.split(key)[0]\n",
    "            text = text.split(key)[1]\n",
    "            section['performance'] = temp\n",
    "            break\n",
    "    for key in section_dict['fees']:\n",
    "        if key in text:\n",
    "            temp = text.split(key)[0]\n",
    "            text = text.split(key)[1]\n",
    "            section['guarantee'] = temp\n",
    "            break\n",
    "    for key in section_dict['misc']:\n",
    "        if key in text:\n",
    "            temp = text.split(key)[0]\n",
    "            text = text.split(key)[1]\n",
    "            section['fees'] = temp\n",
    "            section['misc'] = text\n",
    "            break\n",
    "    return section"
   ]
  },
  {
   "cell_type": "code",
   "execution_count": 12,
   "metadata": {},
   "outputs": [
    {
     "name": "stdout",
     "output_type": "stream",
     "text": [
      "0\n",
      "1\n",
      "2\n",
      "3\n"
     ]
    },
    {
     "ename": "KeyError",
     "evalue": "'derivative'",
     "output_type": "error",
     "traceback": [
      "\u001b[1;31m---------------------------------------------------------------------------\u001b[0m",
      "\u001b[1;31mKeyError\u001b[0m                                  Traceback (most recent call last)",
      "Cell \u001b[1;32mIn [12], line 10\u001b[0m\n\u001b[0;32m      8\u001b[0m doc_id \u001b[39m=\u001b[39m file_id(files[i])\n\u001b[0;32m      9\u001b[0m section \u001b[39m=\u001b[39m division(text\u001b[39m.\u001b[39mlower())\n\u001b[1;32m---> 10\u001b[0m data \u001b[39m=\u001b[39m pd\u001b[39m.\u001b[39mDataFrame({\u001b[39m'\u001b[39m\u001b[39mid\u001b[39m\u001b[39m'\u001b[39m:doc_id, \u001b[39m'\u001b[39m\u001b[39mhead\u001b[39m\u001b[39m'\u001b[39m:section[\u001b[39m'\u001b[39m\u001b[39mhead\u001b[39m\u001b[39m'\u001b[39m], \u001b[39m'\u001b[39m\u001b[39mfact\u001b[39m\u001b[39m'\u001b[39m:section[\u001b[39m'\u001b[39m\u001b[39mfact\u001b[39m\u001b[39m'\u001b[39m], \u001b[39m'\u001b[39m\u001b[39mstrategy\u001b[39m\u001b[39m'\u001b[39m:section[\u001b[39m'\u001b[39m\u001b[39mstrategy\u001b[39m\u001b[39m'\u001b[39m], \u001b[39m'\u001b[39m\u001b[39mderivative\u001b[39m\u001b[39m'\u001b[39m:section[\u001b[39m'\u001b[39;49m\u001b[39mderivative\u001b[39;49m\u001b[39m'\u001b[39;49m], \u001b[39m'\u001b[39m\u001b[39mrisk\u001b[39m\u001b[39m'\u001b[39m:section[\u001b[39m'\u001b[39m\u001b[39mrisk\u001b[39m\u001b[39m'\u001b[39m], \u001b[39m'\u001b[39m\u001b[39mperformance\u001b[39m\u001b[39m'\u001b[39m:section[\u001b[39m'\u001b[39m\u001b[39mperformance\u001b[39m\u001b[39m'\u001b[39m], \u001b[39m'\u001b[39m\u001b[39mguarantee\u001b[39m\u001b[39m'\u001b[39m:section[\u001b[39m'\u001b[39m\u001b[39mguarantee\u001b[39m\u001b[39m'\u001b[39m], \u001b[39m'\u001b[39m\u001b[39mfees\u001b[39m\u001b[39m'\u001b[39m:section[\u001b[39m'\u001b[39m\u001b[39mfees\u001b[39m\u001b[39m'\u001b[39m], \u001b[39m'\u001b[39m\u001b[39mmisc\u001b[39m\u001b[39m'\u001b[39m:section[\u001b[39m'\u001b[39m\u001b[39mmisc\u001b[39m\u001b[39m'\u001b[39m]}, index\u001b[39m=\u001b[39m[i])\n\u001b[0;32m     11\u001b[0m corpus \u001b[39m=\u001b[39m pd\u001b[39m.\u001b[39mconcat([corpus, data], axis\u001b[39m=\u001b[39m\u001b[39m0\u001b[39m)\n\u001b[0;32m     12\u001b[0m \u001b[39mprint\u001b[39m(i)\n",
      "\u001b[1;31mKeyError\u001b[0m: 'derivative'"
     ]
    }
   ],
   "source": [
    "# build the corpus\n",
    "corpus = pd.DataFrame(columns=['id', 'head', 'fact', 'strategy', 'derivative', 'risk', 'performance', 'guarantee', 'fees', 'misc'])\n",
    "\n",
    "for i in range(len(files)):\n",
    "    doc_dir = path + files[i]\n",
    "    raw = read_pages(doc_dir)\n",
    "    text = full_text(raw)\n",
    "    doc_id = file_id(files[i])\n",
    "    section = division(text.lower())\n",
    "    data = pd.DataFrame({'id':doc_id, 'head':section['head'], 'fact':section['fact'], 'strategy':section['strategy'], 'derivative':section['derivative'], 'risk':section['risk'], 'performance':section['performance'], 'guarantee':section['guarantee'], 'fees':section['fees'], 'misc':section['misc']}, index=[i])\n",
    "    corpus = pd.concat([corpus, data], axis=0)\n",
    "    print(i)\n",
    "    corpus.to_csv('data/corpus.csv', index=False)"
   ]
  },
  {
   "cell_type": "code",
   "execution_count": 13,
   "metadata": {},
   "outputs": [
    {
     "ename": "KeyError",
     "evalue": "'derivative'",
     "output_type": "error",
     "traceback": [
      "\u001b[1;31m---------------------------------------------------------------------------\u001b[0m",
      "\u001b[1;31mKeyError\u001b[0m                                  Traceback (most recent call last)",
      "Cell \u001b[1;32mIn [13], line 7\u001b[0m\n\u001b[0;32m      5\u001b[0m doc_id \u001b[39m=\u001b[39m file_id(files[i])\n\u001b[0;32m      6\u001b[0m section \u001b[39m=\u001b[39m division(text\u001b[39m.\u001b[39mlower())\n\u001b[1;32m----> 7\u001b[0m data \u001b[39m=\u001b[39m pd\u001b[39m.\u001b[39mDataFrame({\u001b[39m'\u001b[39m\u001b[39mid\u001b[39m\u001b[39m'\u001b[39m:doc_id, \u001b[39m'\u001b[39m\u001b[39mhead\u001b[39m\u001b[39m'\u001b[39m:section[\u001b[39m'\u001b[39m\u001b[39mhead\u001b[39m\u001b[39m'\u001b[39m], \u001b[39m'\u001b[39m\u001b[39mfact\u001b[39m\u001b[39m'\u001b[39m:section[\u001b[39m'\u001b[39m\u001b[39mfact\u001b[39m\u001b[39m'\u001b[39m], \u001b[39m'\u001b[39m\u001b[39mstrategy\u001b[39m\u001b[39m'\u001b[39m:section[\u001b[39m'\u001b[39m\u001b[39mstrategy\u001b[39m\u001b[39m'\u001b[39m], \u001b[39m'\u001b[39m\u001b[39mderivative\u001b[39m\u001b[39m'\u001b[39m:section[\u001b[39m'\u001b[39;49m\u001b[39mderivative\u001b[39;49m\u001b[39m'\u001b[39;49m], \u001b[39m'\u001b[39m\u001b[39mrisk\u001b[39m\u001b[39m'\u001b[39m:section[\u001b[39m'\u001b[39m\u001b[39mrisk\u001b[39m\u001b[39m'\u001b[39m], \u001b[39m'\u001b[39m\u001b[39mperformance\u001b[39m\u001b[39m'\u001b[39m:section[\u001b[39m'\u001b[39m\u001b[39mperformance\u001b[39m\u001b[39m'\u001b[39m], \u001b[39m'\u001b[39m\u001b[39mguarantee\u001b[39m\u001b[39m'\u001b[39m:section[\u001b[39m'\u001b[39m\u001b[39mguarantee\u001b[39m\u001b[39m'\u001b[39m], \u001b[39m'\u001b[39m\u001b[39mfees\u001b[39m\u001b[39m'\u001b[39m:section[\u001b[39m'\u001b[39m\u001b[39mfees\u001b[39m\u001b[39m'\u001b[39m], \u001b[39m'\u001b[39m\u001b[39mmisc\u001b[39m\u001b[39m'\u001b[39m:section[\u001b[39m'\u001b[39m\u001b[39mmisc\u001b[39m\u001b[39m'\u001b[39m]}, index\u001b[39m=\u001b[39m[i])\n\u001b[0;32m      8\u001b[0m corpus \u001b[39m=\u001b[39m pd\u001b[39m.\u001b[39mconcat([corpus, data], axis\u001b[39m=\u001b[39m\u001b[39m0\u001b[39m)\n",
      "\u001b[1;31mKeyError\u001b[0m: 'derivative'"
     ]
    }
   ],
   "source": [
    "i = 4\n",
    "doc_dir = path + files[i]\n",
    "raw = read_pages(doc_dir)\n",
    "text = full_text(raw)\n",
    "doc_id = file_id(files[i])\n",
    "section = division(text.lower())\n",
    "data = pd.DataFrame({'id':doc_id, 'head':section['head'], 'fact':section['fact'], 'strategy':section['strategy'], 'derivative':section['derivative'], 'risk':section['risk'], 'performance':section['performance'], 'guarantee':section['guarantee'], 'fees':section['fees'], 'misc':section['misc']}, index=[i])\n",
    "corpus = pd.concat([corpus, data], axis=0)\n"
   ]
  },
  {
   "cell_type": "code",
   "execution_count": 16,
   "metadata": {},
   "outputs": [
    {
     "data": {
      "text/plain": [
       "2990"
      ]
     },
     "execution_count": 16,
     "metadata": {},
     "output_type": "execute_result"
    }
   ],
   "source": [
    "text.lower().find('objectives and investment strategy')"
   ]
  },
  {
   "cell_type": "code",
   "execution_count": 6,
   "metadata": {},
   "outputs": [
    {
     "data": {
      "text/plain": [
       "'rket crashes or major crisis). Use of derivatives / investment in derivatives The Sub-Fund s net derivative exposure may be up to 50% of its Net Asset Value. What are the key risks? Investment involve'"
      ]
     },
     "execution_count": 6,
     "metadata": {},
     "output_type": "execute_result"
    }
   ],
   "source": [
    "text[9200:9400]"
   ]
  },
  {
   "cell_type": "code",
   "execution_count": 17,
   "metadata": {},
   "outputs": [
    {
     "data": {
      "text/plain": [
       "' objective the investment objective of the sub-fund is to provide income and capital appreciation through primarily investing in a portfolio of debt securities. there can be no assurance that the sub-fund will achieve its investment objective. strategy the sub-fund seeks to achieve its objective primarily through investing in debt securities. the sub-fund makes investments into debt securities that, in the manager s opinion, have been undervalued or mis-priced by the market. there is no restriction on the geographies, industries or credit ratings in relation to the debt securities in which the sub-fund may invest. the sub-fund is actively managed without reference to any benchmark. the manager will adopt a dynamic approach in asset allocation and security selection, based on a number of factors including macroeconomic analysis, issuer s credit analysis, and security valuation. the sub-fund may from time to time invest up to 100% of its net asset value in emerging markets, such as mainland china, india, indonesia, malaysia and the philippines, subject to an overall upper limit of 50% of the sub-fund s net asset value on onshore china exposure. principal investments the sub-fund s asset allocation strategy is that it will primarily invest (i.e. at least 70% of its net asset value) directly and indirectly (such as through exchange traded funds and other collective investment schemes) in debt securities denominated in usd or other currencies and issued by governments, public institutions, international organisations, financial institutions and other corporations, including mainland china property developers. types of debt securities in which the sub-fund may invest will include (but are not limited to) convertible or non-convertible debt securities and fixed and floating rate bonds. the sub-fund may invest up to 30% of its net asset value in convertible debt securities. the sub-fund may from time to time invest up to 100% of its net asset value in debt securities in emerging markets, subject to the overall upper limit of 50% of the sub-fund s net asset value on onshore china exposure as described above. the sub-fund does not impose any minimum credit rating requirement on debt securities and may invest up to 100% of its net asset value in debt securities which are rated below investment grade (i.e. below bbb- /baa3 by an internationally recognised credit rating agency, such as standard & poor s, moody s and/or fitch) or unrated (meaning neither the security itself nor its issuer has a credit rating). however, the sub-fund may invest no more than 10% of its net asset value in debt securities issued and/or guaranteed by a single sovereign issuer (including its government, public or local authority) which is below investment grade. the sub-fund may invest up to 30% of its net asset value in debt instruments with loss-absorption features (e.g. contingent convertible securities, senior non-preferred debt, and subordinated debt issued by financial institutions). these instruments may be subject to contingent write-down or contingent conversion to ordinary shares on the occurrence of trigger events. the sub-fund may invest up to 20% of its net asset value in collateralised and/or securitised products (such as asset backed securities, mortgage backed securities and asset backed commercial papers). the sub-fund may invest in onshore china debt securities via the bond connect and/or the foreign access regime (which allows foreign institutional investors to invest in the prc interbank bond market), subject to the overall limit on onshore china exposure of 50% of the sub-fund s net asset value as described above. the sub-fund may invest up to 20% of its net asset value in aggregate in onshore and/or offshore urban investment bonds ( ). urban investment bonds are debt instruments issued by mainland chinese local government financing vehicles ( lgfvs ) in the prc listed bond and interbank bond market and offshore 2 cfund dynamic income bond markets. these lgfvs are separate legal entities established by local governments and/or their affiliates to raise financing for public welfare investment or infrastructure projects. the sub-fund may invest up to 20% of its net asset in dim sum bonds (i.e. bonds issued outside of mainland china but denominated in rmb). ancillary investments the sub-fund may invest up to 30% of its net asset value in aggregate in assets other than debt securities, including (i) equity securities directly or indirectly (such as through exchange traded funds and other collective investment schemes) and (ii) real estate investment trusts ( reits ). for the avoidance of doubt, any investment in a-shares will be made via stock connect and be subject to the overall upper limit of 50% of the sub-fund s net asset value on onshore china exposure as described above. investments in other collective investment schemes the sub-fund may invest up to 30% of its net asset value in aggregate in other collective investment schemes, provided it is consistent with the sub-fund s investment objective and strategy. '"
      ]
     },
     "execution_count": 17,
     "metadata": {},
     "output_type": "execute_result"
    }
   ],
   "source": [
    "section['strategy']"
   ]
  },
  {
   "cell_type": "code",
   "execution_count": null,
   "metadata": {},
   "outputs": [],
   "source": []
  }
 ],
 "metadata": {
  "kernelspec": {
   "display_name": "Python 3.9.13 ('base')",
   "language": "python",
   "name": "python3"
  },
  "language_info": {
   "codemirror_mode": {
    "name": "ipython",
    "version": 3
   },
   "file_extension": ".py",
   "mimetype": "text/x-python",
   "name": "python",
   "nbconvert_exporter": "python",
   "pygments_lexer": "ipython3",
   "version": "3.9.13"
  },
  "orig_nbformat": 4,
  "vscode": {
   "interpreter": {
    "hash": "72af1ffc75a182d8026fd8f0e4608e6219cf801f8e77b227b63b94805427af6d"
   }
  }
 },
 "nbformat": 4,
 "nbformat_minor": 2
}
