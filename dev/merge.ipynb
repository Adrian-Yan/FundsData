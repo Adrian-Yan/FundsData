{
 "cells": [
  {
   "cell_type": "code",
   "execution_count": 2,
   "metadata": {},
   "outputs": [],
   "source": [
    "import pandas as pd\n",
    "import numpy as np\n",
    "\n",
    "target = pd.read_csv('data/target_list.csv')\n",
    "freq = pd.read_csv('data/fund_freq_1.csv')\n",
    "fund_type = pd.read_csv('data/type.csv')\n",
    "fee = pd.read_csv('data/fee_table_1.csv')\n",
    "\n",
    "fund_type['id'] = fund_type['Sub_Fund_ID']"
   ]
  },
  {
   "cell_type": "code",
   "execution_count": 4,
   "metadata": {},
   "outputs": [],
   "source": [
    "temp = pd.merge(fund_type, fee, on='id', how='left')"
   ]
  },
  {
   "cell_type": "code",
   "execution_count": 6,
   "metadata": {},
   "outputs": [],
   "source": [
    "freq['id']  = freq['file_id']\n",
    "temp = pd.merge(temp, freq, on='id', how='left')"
   ]
  },
  {
   "cell_type": "code",
   "execution_count": 7,
   "metadata": {},
   "outputs": [],
   "source": [
    "temp.to_csv('data/merge.csv', index=False)"
   ]
  },
  {
   "cell_type": "code",
   "execution_count": null,
   "metadata": {},
   "outputs": [],
   "source": []
  }
 ],
 "metadata": {
  "kernelspec": {
   "display_name": "Python 3.9.13 ('base')",
   "language": "python",
   "name": "python3"
  },
  "language_info": {
   "codemirror_mode": {
    "name": "ipython",
    "version": 3
   },
   "file_extension": ".py",
   "mimetype": "text/x-python",
   "name": "python",
   "nbconvert_exporter": "python",
   "pygments_lexer": "ipython3",
   "version": "3.9.13"
  },
  "orig_nbformat": 4,
  "vscode": {
   "interpreter": {
    "hash": "72af1ffc75a182d8026fd8f0e4608e6219cf801f8e77b227b63b94805427af6d"
   }
  }
 },
 "nbformat": 4,
 "nbformat_minor": 2
}
