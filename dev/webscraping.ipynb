{
 "cells": [
  {
   "cell_type": "code",
   "execution_count": null,
   "metadata": {},
   "outputs": [],
   "source": [
    "'''\n",
    "File: webscraping.ipynb\n",
    "Project: FundsData\n",
    "File Created: Saturday, 3rd December 2022 11:19:33 pm (UTC+8:00)\n",
    "Author: Raymond Yan Jin (yanjinn@connect.hku.hk)\n",
    "Comment: Get the list and key fact statement of the unlisted funds\n",
    "-----\n",
    "Last Modified: Saturday, 3rd December 2022 11:22:28 pm (UTC+8:00)\n",
    "'''\n"
   ]
  },
  {
   "cell_type": "markdown",
   "metadata": {},
   "source": [
    "### Part 1. Get the list of unlisted products"
   ]
  },
  {
   "cell_type": "code",
   "execution_count": null,
   "metadata": {},
   "outputs": [],
   "source": [
    "import pandas as pd \n",
    "import numpy as np\n",
    "import selenium\n",
    "from selenium import webdriver\n",
    "import time\n",
    "\n",
    "browser = webdriver.Chrome(r\"C:\\Program Files\\Development\\chromedriver.exe\")"
   ]
  },
  {
   "cell_type": "code",
   "execution_count": null,
   "metadata": {},
   "outputs": [],
   "source": [
    "url = \"https://apps.sfc.hk/productlistWeb/searchProduct/UTMF.do\"\n",
    "browser.get(url)\n",
    "\n",
    "fund_list = pd.DataFrame(columns = ['Product_Name', 'Sub_Fund_Name', 'Issuer', 'Auth_Date', 'Doc', 'Deriv_Fund'])\n",
    "\n",
    "# No. of funds\n",
    "for i in range(2,2087):\n",
    "    Product_Name = browser.find_elements(\"xpath\", \"/html/body/div[3]/div/div[2]/form[2]/div[3]/div/table/tbody/tr[{}]/td[1]\".format(i))[0].text\n",
    "    Sub_Fund_Name = browser.find_elements(\"xpath\", \"/html/body/div[3]/div/div[2]/form[2]/div[3]/div/table/tbody/tr[{}]/td[2]\".format(i))[0].text\n",
    "    Issuer = browser.find_elements(\"xpath\", \"/html/body/div[3]/div/div[2]/form[2]/div[3]/div/table/tbody/tr[{}]/td[3]\".format(i))[0].text\n",
    "    Auth_Date = browser.find_elements(\"xpath\", \"/html/body/div[3]/div/div[2]/form[2]/div[3]/div/table/tbody/tr[{}]/td[4]\".format(i))[0].text\n",
    "    Doc = browser.find_elements(\"xpath\", \"/html/body/div[3]/div/div[2]/form[2]/div[3]/div/table/tbody/tr[{}]/td[5]\".format(i))[0].text\n",
    "    Deriv_Fund = browser.find_elements(\"xpath\", \"/html/body/div[3]/div/div[2]/form[2]/div[3]/div/table/tbody/tr[{}]/td[6]\".format(i))[0].text\n",
    "    #fund_list = fund_list.append({'Product_Name': Product_Name, 'Sub_Fund_Name': Sub_Fund_Name, 'Issuer': Issuer, 'Auth_Date': Auth_Date, 'Doc': Doc, 'Deriv_Fund': Deriv_Fund}, ignore_index=True)\n",
    "    fund_list = pd.concat([fund_list, pd.DataFrame({'Product_Name': Product_Name, 'Sub_Fund_Name': Sub_Fund_Name, 'Issuer': Issuer, 'Auth_Date': Auth_Date, 'Doc': Doc, 'Deriv_Fund': Deriv_Fund}, index=[0])], ignore_index=True)\n",
    "\n",
    "fund_list.to_csv(\"data/temp_fund_list.csv\", index=False)"
   ]
  },
  {
   "cell_type": "markdown",
   "metadata": {},
   "source": [
    "### Part 2. Download the Key Facts Statement"
   ]
  },
  {
   "cell_type": "code",
   "execution_count": null,
   "metadata": {},
   "outputs": [],
   "source": [
    "import pandas as pd \n",
    "import numpy as np\n",
    "import selenium\n",
    "from selenium import webdriver\n",
    "import time\n",
    "\n",
    "options = webdriver.ChromeOptions()\n",
    "prefs = {\"profile.default_content_settings.popups\": 0,\n",
    "        \"download.default_directory\": r\"C:\\Projects\\FundsData\\data\\Key_Stats\\\\\", # IMPORTANT - ENDING SLASH V IMPORTANT\n",
    "        \"directory_upgrade\": True}\n",
    "options.add_experimental_option(\"prefs\",prefs)\n",
    "browser = webdriver.Chrome(executable_path=r\"C:\\Program Files\\Development\\chromedriver.exe\", options=options)\n",
    "fund_list = pd.read_csv('data/fund_list.csv')"
   ]
  },
  {
   "cell_type": "code",
   "execution_count": null,
   "metadata": {},
   "outputs": [],
   "source": [
    "# Some products do not have any attached doc\n",
    "for i in range(fund_list.shape[0]):\n",
    "    fund_list.loc[i, 'doc'] = 1 if type(fund_list.iloc[i]['doc_url']) != float else np.nan\n",
    "#fund_list.to_csv('data/fund_list.csv', index=False)\n",
    "\n",
    "# Download the key stats\n",
    "for i in range(fund_list.shape[0]):\n",
    "    if type(fund_list.iloc[i]['doc_url']) != float:\n",
    "        url = fund_list.iloc[i]['doc_url']\n",
    "        browser.get(url)\n",
    "        try:\n",
    "            browser.find_element_by_xpath('/html/body/div/div/div[3]/div/div/div/div[2]/table/tbody/tr[3]/td/a').click()\n",
    "        except:\n",
    "            fund_list.loc[i, 'doc'] = 0\n",
    "            fund_list.to_csv('data/fund_list.csv', index=False)\n",
    "            pass\n",
    "    time.sleep(np.random.uniform(1, 3))\n",
    "\n",
    "\n",
    "fund_list.to_csv('data/fund_list.csv', index=False)"
   ]
  },
  {
   "cell_type": "code",
   "execution_count": null,
   "metadata": {},
   "outputs": [],
   "source": [
    "for i in temp.index:\n",
    "    if type(fund_list.iloc[i]['doc_url']) != float:\n",
    "        url = fund_list.iloc[i]['doc_url']\n",
    "        browser.get(url)\n",
    "        try:\n",
    "            browser.find_element_by_xpath('/html/body/div/div/div[3]/div/div/div/div[2]/table/tbody/tr[4]/td/a').click()\n",
    "        # if there is no doc, change the xpath to 3\n",
    "     \n"
   ]
  }
 ],
 "metadata": {
  "kernelspec": {
   "display_name": "Python 3.9.13 ('base')",
   "language": "python",
   "name": "python3"
  },
  "language_info": {
   "name": "python",
   "version": "3.9.13"
  },
  "orig_nbformat": 4,
  "vscode": {
   "interpreter": {
    "hash": "72af1ffc75a182d8026fd8f0e4608e6219cf801f8e77b227b63b94805427af6d"
   }
  }
 },
 "nbformat": 4,
 "nbformat_minor": 2
}
