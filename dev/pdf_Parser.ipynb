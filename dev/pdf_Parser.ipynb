{
 "cells": [
  {
   "cell_type": "code",
   "execution_count": 1,
   "metadata": {},
   "outputs": [],
   "source": [
    "import pdfplumber\n",
    "import os\n",
    "import re\n",
    "import pandas as pd\n",
    "import numpy as np\n",
    "\n",
    "path = \"data/Key_Stats/\"\n",
    "files = os.listdir(path)\n"
   ]
  },
  {
   "cell_type": "code",
   "execution_count": 2,
   "metadata": {},
   "outputs": [],
   "source": [
    "def read_pages(dir):\n",
    "    with pdfplumber.open(dir) as pdf:\n",
    "        text = ''\n",
    "        for page in pdf.pages:\n",
    "            text += page.extract_text()\n",
    "    return text\n",
    "\n",
    "def full_text(text):\n",
    "    text = re.sub(r'[^\\x00-\\x7F]+',' ', text) # only english\n",
    "    text = re.sub(r'[\\n\\t]+', ' ', text) # delete '\\n' and '\\t'\n",
    "    text = re.sub(r' +', ' ', text) # delete multiple spaces\n",
    "    return text\n",
    "\n",
    "def file_id(file):\n",
    "    pattern = r'[A-Z]{3,3}[0-9]{3,3}'\n",
    "    return re.findall(pattern, file)"
   ]
  },
  {
   "cell_type": "code",
   "execution_count": 30,
   "metadata": {},
   "outputs": [],
   "source": [
    "i = 808\n",
    "doc_dir = path + files[i]\n",
    "raw = read_pages(doc_dir)\n",
    "text = full_text(raw).lower()\n",
    "ID = file_id(files[i])\n",
    "\n",
    "fee_loc = text.find('what are the fees and charges?')\n",
    "text_fee = text[fee_loc:]\n",
    "\n",
    "# match 'nil' or 'no'\n"
   ]
  },
  {
   "cell_type": "code",
   "execution_count": 31,
   "metadata": {},
   "outputs": [
    {
     "name": "stdout",
     "output_type": "stream",
     "text": [
      "subscription fee = 5%\n",
      "switching fee = 0%\n",
      "redemption fee = 6%\n"
     ]
    },
    {
     "ename": "IndexError",
     "evalue": "list index out of range",
     "output_type": "error",
     "traceback": [
      "\u001b[1;31m---------------------------------------------------------------------------\u001b[0m",
      "\u001b[1;31mIndexError\u001b[0m                                Traceback (most recent call last)",
      "Cell \u001b[1;32mIn [31], line 25\u001b[0m\n\u001b[0;32m     23\u001b[0m     \u001b[39mprint\u001b[39m(fee \u001b[39m+\u001b[39m \u001b[39m'\u001b[39m\u001b[39m fee = \u001b[39m\u001b[39m'\u001b[39m \u001b[39m+\u001b[39m fee1[\u001b[39m0\u001b[39m])\n\u001b[0;32m     24\u001b[0m \u001b[39melse\u001b[39;00m:\n\u001b[1;32m---> 25\u001b[0m     \u001b[39mprint\u001b[39m(fee \u001b[39m+\u001b[39m \u001b[39m'\u001b[39m\u001b[39m fee = \u001b[39m\u001b[39m'\u001b[39m \u001b[39m+\u001b[39m fee2[\u001b[39m0\u001b[39;49m])\n",
      "\u001b[1;31mIndexError\u001b[0m: list index out of range"
     ]
    }
   ],
   "source": [
    "pattern1 = r'[0-9]*\\.[0-9]+%'\n",
    "pattern2 = r'[0-9]+%'\n",
    "pattern3 = r'nil|no|n\\/a'\n",
    "fee_list = ['subscription', 'switching', 'redemption', 'management', 'trustee', 'performance', 'admin']\n",
    "fee_table = pd.DataFrame(columns = ['id'] + fee_list)\n",
    "\n",
    "for fee in fee_list:\n",
    "    loc = text_fee.find(fee)\n",
    "    if loc == -1:\n",
    "        print('no ' + fee)\n",
    "    else:\n",
    "        fee1 = re.findall(pattern1,text_fee[loc:])\n",
    "        fee2 = re.findall(pattern2,text_fee[loc:])\n",
    "        fee3 = re.findall(pattern3,text_fee[loc:])\n",
    "        \n",
    "        loc1 = text_fee[loc:].find(fee1[0]) if len(fee1) > 0 else 6000\n",
    "        loc2 = text_fee[loc:].find(fee2[0]) if len(fee2) > 0 else 6000\n",
    "        loc3 = text_fee[loc:].find(fee3[0]) if len(fee3) > 0 else 6000\n",
    "        if loc3 < loc2 and loc3 < loc1:\n",
    "            print('no' + fee + 'fee') \n",
    "        else:\n",
    "            if loc1 < loc2:\n",
    "                print(fee + ' fee = ' + fee1[0])\n",
    "            else:\n",
    "                print(fee + ' fee = ' + fee2[0])"
   ]
  },
  {
   "cell_type": "code",
   "execution_count": 32,
   "metadata": {},
   "outputs": [
    {
     "data": {
      "text/plain": [
       "[]"
      ]
     },
     "execution_count": 32,
     "metadata": {},
     "output_type": "execute_result"
    }
   ],
   "source": [
    "re.findall(pattern1,text_fee[loc:])\n",
    "re.findall(pattern2,text_fee[loc:])\n",
    "#re.findall(pattern3,text_fee[loc:])"
   ]
  },
  {
   "cell_type": "code",
   "execution_count": 44,
   "metadata": {},
   "outputs": [
    {
     "name": "stderr",
     "output_type": "stream",
     "text": [
      "C:\\Users\\Yan Jin\\AppData\\Local\\Temp\\ipykernel_25256\\1406032190.py:13: FutureWarning: The frame.append method is deprecated and will be removed from pandas in a future version. Use pandas.concat instead.\n",
      "  fee_table = fee_table.append(fee_fund_temp, ignore_index = True)\n"
     ]
    }
   ],
   "source": [
    "fee_table = pd.read_csv('data/fee_table.csv')\n",
    "\n",
    "fee_fund_temp = pd.DataFrame(columns = ['id'] + fee_list)\n",
    "fee_fund_temp['id'] = ID\n",
    "fee_fund_temp['subscription'] = '5%'\n",
    "fee_fund_temp['switching'] = np.nan\n",
    "fee_fund_temp['redemption'] = '6%'\n",
    "fee_fund_temp['management'] = '1%'\n",
    "fee_fund_temp['trustee'] = '0.125%'\n",
    "fee_fund_temp['performance'] = np.nan\n",
    "fee_fund_temp['admin'] = '0.035%'\n",
    "\n",
    "fee_table = fee_table.append(fee_fund_temp, ignore_index = True)\n",
    "fee_table.to_csv('data/fee_table.csv', index = False)"
   ]
  },
  {
   "cell_type": "code",
   "execution_count": 45,
   "metadata": {},
   "outputs": [],
   "source": [
    "pattern1 = r'[0-9]*\\.[0-9]+%'\n",
    "pattern2 = r'[0-9]+%'\n",
    "pattern3 = r\"nil|no|n\\/a\"\n",
    "fee_list = ['subscription', 'switching', 'redemption', 'management', 'trustee', 'performance', 'admin']\n",
    "#fee_table = pd.DataFrame(columns = ['id'] + fee_list)\n",
    "\n",
    "\n",
    "for i in range(809, len(files)):\n",
    "#for i in range(10):\n",
    "    doc_dir = path + files[i]\n",
    "    raw = read_pages(doc_dir)\n",
    "    text = full_text(raw).lower()\n",
    "    ID = file_id(files[i])\n",
    "    \n",
    "    fee_loc = text.find('what are the fees and charges?')\n",
    "    text_fee = text[fee_loc:]\n",
    "    #fee_list = ['subscription', 'switching', 'redemption', 'investment management', 'trustee', 'performance', 'admin']\n",
    "    #fee_table = pd.DataFrame(columns = ['id'] + fee_list)\n",
    "    fee_fund = pd.DataFrame(columns = ['id'] + fee_list)\n",
    "    fee_fund['id'] = ID\n",
    "    for fee in fee_list:\n",
    "        loc = text_fee.find(fee)\n",
    "        if loc == -1:\n",
    "            fee_fund[fee] = np.nan\n",
    "        else:\n",
    "            fee1 = re.findall(pattern1,text_fee[loc:])\n",
    "            fee2 = re.findall(pattern2,text_fee[loc:])\n",
    "            fee3 = re.findall(pattern3,text_fee[loc:])\n",
    "\n",
    "            loc1 = text_fee[loc:].find(fee1[0]) if len(fee1) > 0 else 6000\n",
    "            loc2 = text_fee[loc:].find(fee2[0]) if len(fee2) > 0 else 6000\n",
    "            loc3 = text_fee[loc:].find(fee3[0]) if len(fee3) > 0 else 6000\n",
    "            if loc3 < loc2 and loc3 < loc1:\n",
    "                fee_fund[fee] = np.nan\n",
    "            else:\n",
    "                if loc1 < loc2:\n",
    "                    fee_fund[fee] = fee1[0]\n",
    "                else:\n",
    "                    fee_fund[fee] = fee2[0]\n",
    "    fee_table = pd.concat([fee_table, fee_fund], axis = 0)"
   ]
  },
  {
   "cell_type": "code",
   "execution_count": 13,
   "metadata": {},
   "outputs": [
    {
     "data": {
      "text/plain": [
       "['n/a', 'no', 'no', 'no', 'n/a', 'n/a', 'n/a', 'no', 'no', 'no', 'no', 'no']"
      ]
     },
     "execution_count": 13,
     "metadata": {},
     "output_type": "execute_result"
    }
   ],
   "source": [
    "re.findall(pattern3, text_fee[loc:])"
   ]
  },
  {
   "cell_type": "code",
   "execution_count": 46,
   "metadata": {},
   "outputs": [],
   "source": [
    "fee_table.to_csv('data/fee_table.csv', index = False)"
   ]
  },
  {
   "cell_type": "code",
   "execution_count": null,
   "metadata": {},
   "outputs": [],
   "source": []
  }
 ],
 "metadata": {
  "kernelspec": {
   "display_name": "Python 3.9.13 ('base')",
   "language": "python",
   "name": "python3"
  },
  "language_info": {
   "codemirror_mode": {
    "name": "ipython",
    "version": 3
   },
   "file_extension": ".py",
   "mimetype": "text/x-python",
   "name": "python",
   "nbconvert_exporter": "python",
   "pygments_lexer": "ipython3",
   "version": "3.9.13"
  },
  "orig_nbformat": 4,
  "vscode": {
   "interpreter": {
    "hash": "72af1ffc75a182d8026fd8f0e4608e6219cf801f8e77b227b63b94805427af6d"
   }
  }
 },
 "nbformat": 4,
 "nbformat_minor": 2
}
