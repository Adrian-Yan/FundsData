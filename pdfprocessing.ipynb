{
 "cells": [
  {
   "cell_type": "code",
   "execution_count": 1,
   "metadata": {},
   "outputs": [],
   "source": [
    "from PyPDF2 import PdfReader\n",
    "\n",
    "reader = PdfReader(\"data/Key_Stats/BSM054_BOC-Prudential+Hong+Kong+Stable+Retirement+Fund_KFS_Eng_202211.pdf\")\n",
    "number_of_pages = len(reader.pages)\n",
    "page = reader.pages[0]\n",
    "text = page.extract_text()"
   ]
  },
  {
   "cell_type": "code",
   "execution_count": 2,
   "metadata": {},
   "outputs": [
    {
     "data": {
      "text/plain": [
       "' \\n1 \\n PRODUCT KEY FACTS  \\nBOC -Prudential  \\nHong Kong Stable Retirement Fund  \\na sub-fund of \\nthe BOC -Prudential Unit Trust Fund  \\n \\n21 November 2022  \\nIssuer: BOCI -Prudential Asset Management Limited  \\n\\uf06c This statement provides you with key information about this product . \\n\\uf06c This stateme nt is a part of the offering document.  \\n\\uf06c You should not invest in this product  based on this statement alone.  \\nQuick facts  \\nFund Manager:  BOCI -Prudential Asset Management Limited  (the “ Investment Manager ”) \\nTrustee and Registrar:  BOCI -Prudential Trustee Limit ed (the “Trustee ”) \\nOngoing charges over a \\nyear#: Provident Class  – Class A  Units : 0.62% \\nDealing frequency:  Daily  (Hong Kong business days, other than Saturdays ) \\nBase currency:  Hong Kong Dollars  \\nDistribution  policy:  The Investment Manager does not inten d to make distributions for the \\nSub-Fund . Income earned will be reinvested in the Sub-Fund . \\nFinancial year end:   31 March  \\nMinimum  investment:  \\n Provident Class  – Class A Units :   \\nno minimum in vestment and subsequent holding requirement  \\n \\n# As the Sub-Fund  is newly set up, this is a best estimate figure based on the estimated ongoing expenses chargeable \\nto the Provident Class – Class A  Units of the Sub-Fund  over a 12 -month period and expressed as a percentage of \\nthe estimated average net asset value of the Provident Class – Class A  Units of the Sub-Fund  over the same period . \\nThe actual figure may be different upon actual operation of the Sub-Fund  and may vary from year to year.  \\n \\nWhat is this product?  \\nBOC -Prudential Hong Kong Stable Retirement  Fund  is a sub-fund (the “ Sub-Fund ”) under the BOC -Prudential \\nUnit Trust Fund (the “Fund ”), which is an umbrella unit trust established under the laws of Hong Kong.   \\nObjective s and Investment Strategy  \\nThe Sub-Fund  will, through its investment in the APIF Sub -Funds a nd/or approved ITCIS  (as defined below),  \\ninvest in a mix of Hong Kong dollar denominated bonds or fixed income instruments and global equities in a \\nconservative manner with the objective of addressing retirement needs by aiming  to seek to achieve a stable and \\nlong term capital appreciation with an expectation of a lower level of volatility.  \\n \\nThe Sub-Fund is a fund of funds investing substantially all its assets in other sub-funds of the Fund , which are \\napproved as approved pooled investment fund s by the Ma ndatory Provident Fund Schemes Authority ( the \\n“Authority ”) and authorized by the Securities and Futures Commission  (the “SFC”) (“APIF Sub -Funds ”) and/or \\nindex -tracking collective investment schemes approved by the Authority  (“approved ITCIS ”) managed by th e \\nInvestment Manager. Under normal circumstances, the Sub -Fund will invest in at least two APIF Sub -Funds \\nand/or approved ITCIS. T he Sub -Fund may invest up to 89 % of its net asset value in BOC -Prudential Hong Kong \\nDollar Bond Fund  (a sub -fund under BOC -Prudential Unit Trust Fund) (“ Hong Kong Dollar Bond Fund ”) which \\nseeks to provide a stable income stream and long term capital appreciation through a portfolio of Hong Kong \\ndollar denominated bonds which meet the credit rating requirements as specified in the  relevant guidelines issued \\nby the Authority from time to time. The Hong Kong Dollar Bond Fund’s fixed income investment will focus on \\n'"
      ]
     },
     "execution_count": 2,
     "metadata": {},
     "output_type": "execute_result"
    }
   ],
   "source": [
    "text"
   ]
  },
  {
   "cell_type": "code",
   "execution_count": null,
   "metadata": {},
   "outputs": [],
   "source": []
  }
 ],
 "metadata": {
  "kernelspec": {
   "display_name": "Python 3.9.13 ('base')",
   "language": "python",
   "name": "python3"
  },
  "language_info": {
   "codemirror_mode": {
    "name": "ipython",
    "version": 3
   },
   "file_extension": ".py",
   "mimetype": "text/x-python",
   "name": "python",
   "nbconvert_exporter": "python",
   "pygments_lexer": "ipython3",
   "version": "3.9.13"
  },
  "orig_nbformat": 4,
  "vscode": {
   "interpreter": {
    "hash": "72af1ffc75a182d8026fd8f0e4608e6219cf801f8e77b227b63b94805427af6d"
   }
  }
 },
 "nbformat": 4,
 "nbformat_minor": 2
}
