{
 "cells": [
  {
   "cell_type": "code",
   "execution_count": null,
   "metadata": {},
   "outputs": [],
   "source": [
    "from PyPDF2 import PdfReader\n",
    "import os\n",
    "import re\n",
    "\n",
    "path = \"data/Key_Stats/\"\n",
    "files = os.listdir(path)\n",
    "\n",
    "dir1 = path + files[0]"
   ]
  },
  {
   "cell_type": "code",
   "execution_count": 30,
   "metadata": {},
   "outputs": [],
   "source": [
    "def file_id(file):\n",
    "    pattern = r'[A-Z]{3,3}[0-9]{3,3}'\n",
    "    return re.findall(pattern, file)\n",
    "\n",
    "def read_page(dir, page):\n",
    "    pdf = PdfReader(dir)\n",
    "    return pdf.pages[page].extract_text()\n",
    "\n",
    "def read_pages(dir):\n",
    "    text = ''\n",
    "    pdf = PdfReader(dir)\n",
    "    for page in pdf.pages:\n",
    "        text += page.extract_text()\n",
    "    return text\n",
    "\n",
    "def split_text(text, words):\n",
    "    return [text.split(word) for word in words]"
   ]
  },
  {
   "cell_type": "code",
   "execution_count": 27,
   "metadata": {},
   "outputs": [],
   "source": [
    "# split the text by a list of words no matter the capitalization\n",
    "def split_text2(text, words):\n",
    "    pattern = '|'.join(words)\n",
    "    return re.split(pattern, text, flags=re.IGNORECASE)"
   ]
  },
  {
   "cell_type": "code",
   "execution_count": 28,
   "metadata": {},
   "outputs": [],
   "source": [
    "section_list = ['Quick Facts', \\\n",
    "                'What is this product?',\\\n",
    "                'Objective and Investment Strategy', \\\n",
    "                'Use of derivatives', 'investment in derivatives', \\\n",
    "                'What are the key risks?', \\\n",
    "                'How has the Sub-Fund performed?', \\\n",
    "                'Is there any guarantee?', \\\n",
    "                'What are the fees and charges?', \\\n",
    "                'Additional Information'\n",
    "                ]\n",
    "\n",
    "\n"
   ]
  },
  {
   "cell_type": "code",
   "execution_count": 31,
   "metadata": {},
   "outputs": [],
   "source": [
    "text = read_pages(dir1)"
   ]
  },
  {
   "cell_type": "code",
   "execution_count": 32,
   "metadata": {},
   "outputs": [],
   "source": [
    "temp = split_text2(text, section_list)\n"
   ]
  },
  {
   "cell_type": "code",
   "execution_count": 2,
   "metadata": {},
   "outputs": [],
   "source": []
  },
  {
   "cell_type": "code",
   "execution_count": 7,
   "metadata": {},
   "outputs": [],
   "source": [
    "# regular expression for three capital letter followed by three numbers\n",
    "\n",
    "\n"
   ]
  }
 ],
 "metadata": {
  "kernelspec": {
   "display_name": "Python 3.9.13 ('base')",
   "language": "python",
   "name": "python3"
  },
  "language_info": {
   "codemirror_mode": {
    "name": "ipython",
    "version": 3
   },
   "file_extension": ".py",
   "mimetype": "text/x-python",
   "name": "python",
   "nbconvert_exporter": "python",
   "pygments_lexer": "ipython3",
   "version": "3.9.13"
  },
  "orig_nbformat": 4,
  "vscode": {
   "interpreter": {
    "hash": "72af1ffc75a182d8026fd8f0e4608e6219cf801f8e77b227b63b94805427af6d"
   }
  }
 },
 "nbformat": 4,
 "nbformat_minor": 2
}
