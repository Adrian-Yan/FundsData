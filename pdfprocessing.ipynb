{
 "cells": [
  {
   "cell_type": "code",
   "execution_count": 1,
   "metadata": {},
   "outputs": [],
   "source": [
    "from PyPDF2 import PdfReader\n",
    "import os\n",
    "import re\n",
    "\n",
    "path = \"data/Key_Stats/\"\n",
    "files = os.listdir(path)\n",
    "\n",
    "dir1 = path + files[178]"
   ]
  },
  {
   "cell_type": "code",
   "execution_count": 41,
   "metadata": {},
   "outputs": [],
   "source": [
    "def file_id(file):\n",
    "    pattern = r'[A-Z]{3,3}[0-9]{3,3}'\n",
    "    return re.findall(pattern, file)\n",
    "\n",
    "def read_page(dir, page):\n",
    "    pdf = PdfReader(dir)\n",
    "    return pdf.pages[page].extract_text()\n",
    "\n",
    "def read_pages(dir):\n",
    "    text = ''\n",
    "    pdf = PdfReader(dir)\n",
    "    for page in pdf.pages:\n",
    "        text += page.extract_text()\n",
    "    return text\n",
    "\n",
    "def split_text(text, words):\n",
    "    return [text.split(word) for word in words]\n",
    "\n",
    "'''\n",
    "# split the text by a list of words no matter the capitalization\n",
    "def split_text2(text, words):\n",
    "    pattern = '|'.join(words)\n",
    "    return re.split(pattern, text, flags=re.IGNORECASE)\n",
    "\n",
    "section_list = ['Quick Facts', \\\n",
    "                #'What is this product?',\\\n",
    "                'Objective and Investment Strategy', 'Objectives and Investment Strategy'\\\n",
    "                'Use of derivatives', 'investment in derivatives', \\\n",
    "                'What are the key risks', \\\n",
    "                'How has the Sub-Fund performed', \\\n",
    "                'Is there any guarantee', \\\n",
    "                'What are the fees and charges', \\\n",
    "                'Additional Information'\n",
    "                ]\n",
    "'''\n",
    "\n",
    "# delete all the non-english characters\n",
    "def delete_non_english(text):\n",
    "    return re.sub(r'[^\\x00-\\x7F]+',' ', text)\n",
    "\n",
    "\n",
    "def split_text3(text, dicts):\n",
    "    temp = []\n",
    "    for key, value in dicts.items():\n",
    "        pattern = '|'.join(value)\n",
    "        text = re.split(pattern, text, flags=re.IGNORECASE)\n",
    "        temp.append(text[1])\n",
    "    return temp\n",
    "\n",
    "section_dict = {'fact':['Quick Facts'], \\\n",
    "                'strategy':['Objective and Investment Strategy', 'Objectives and Investment Strategy'], \\\n",
    "                'derivative':['Use of derivatives', 'investment in derivatives'], \\\n",
    "                'risk':['What are the key risks'], \\\n",
    "                'performance':['How has the Sub-Fund performed', 'How has the Fund performed'], \\\n",
    "                'guarantee':['Is there any guarantee'], \\\n",
    "                'fees':['What are the fees', 'What are the fees and charges'], \\\n",
    "                'misc':['Additional Information']\n",
    "}\n",
    "\n",
    "def split_texts(text, dicts):\n",
    "    temp = []\n",
    "    for key in dicts.keys():\n",
    "        for value in dicts[key]:\n",
    "            pattern = '|'.join(value)\n",
    "            text = re.split(pattern, text, flags=re.IGNORECASE)\n",
    "            if len(text) > 1:\n",
    "                temp.append(text[0])\n",
    "                text = text[1]\n",
    "                break\n",
    "    return temp"
   ]
  },
  {
   "cell_type": "code",
   "execution_count": null,
   "metadata": {},
   "outputs": [],
   "source": [
    "# get the dict into lower case\n",
    "def lower_dict(dicts):\n",
    "    temp = {}\n",
    "    for key, value in dicts.items():\n",
    "        temp[key] = [x.lower() for x in value]\n",
    "    return temp\n",
    "section_dict = lower_dict(section_dict)\n",
    "text = str(read_pages(dir1)).lower()\n",
    "text = delete_non_english(text)\n",
    "para = split_texts(text, section_dict)\n"
   ]
  },
  {
   "cell_type": "code",
   "execution_count": 23,
   "metadata": {},
   "outputs": [
    {
     "data": {
      "text/plain": [
       "' \\nPRODUCT KEY FACTS  \\n   \\nFirst Sentier Asia Strategic  Bond Fund  \\n     \\n Issued by First Sentier Investors (Hong Kong) Limited     1    \\nOctober  2022   2022  10  \\n \\nThis statement provides you with key information about this product.     \\nThis statement is a part of the offering document.      \\nYou should  not invest in this product based on this statement alone.     \\n \\nQuick Facts     \\nInvestment Manager     First Sentier Investors (Hong Kong) Limited     \\nSub-Investment Manager(s)     Internal delegation to one or more Sub -Investment Manager(s) in respect of all or a \\nportion of the assets of the Fund as described under the sub -section  Investment \\nManager   of the section  Management and Administration   in the Prospectus and the \\nsection h eaded  7. Investment Management and Delegation to Sub -Investment \\nManagers   in the Supplement for Hong Kong Investors, namely First Sentier Investors  \\n(UK) IM Limited (located in UK), First Sentier Investors  (Singapore) (located in \\nSingapore) and First Senti er Investors (Australia) RE Ltd  (located in Australia) from \\ntime to time. Further information concerning the Sub -Investment Manager(s) \\nappointed and any changes thereto will be provided by the Company, upon request.  \\nDetails of all of these appointments by the Investment Manager shall be disclosed in \\nthe periodic reports of the Company.   \\n  7.  \\n     First Sentier Investors  (UK) IM \\nLimited  First Sentier Investors (Singapore)   First \\nSentier Investors (Australia) RE Ltd    \\n \\n   \\nDepositary     HSBC Continental Europe , Dublin branch   HSBC Continental Europe    \\nOngoing Charges Over A Year   \\n   Class I (Distributing)   Quarterly ^   I  ^ 1.22%*  \\nClass I (Monthly Distributing) ^   I  ^ 1.20%*  \\nClass I (Australian Dollar    I  N  1.29%#  \\nHedged N)  \\nClass I (Australian Dollar Hedged    I   N    1.24%*  \\nN Distributing)   Monthly  \\nClass I  (Hong Kong Dollar)    I   1.22%#  \\nClass I (Hong Kong Dollar    I   1.20%*   \\nMonthly Distributing)  \\nClass I (Hong Kong Dollar    I   1.22%#  \\nDistributing)   Quarterly  \\nClass I (Renminbi Hedged N    I  N     1.22%# \\nDistributing)   Monthly  \\nClass I (Sterling Accumulation)    I   1.22%#  \\nClass I (Sterling Distributing)     I   1.22%#  First Sentier Asia Strategic  Bond Fund  \\n     \\n2 Issued by First Sentier Investors (Hong Kong) Limited      Quarterly  \\nClass III ^   III^ 0.52%#  \\nDealing Frequency     Daily  (every day, excluding Saturday and Sunday, on which banks in Dublin are open \\nfor business)    \\nBase Currency     US dollar    \\nDividend Policy     Class I (Sterling Accumulation)    I   \\nClass I (Hong Kong Dollar)    I   \\nClass I (Australian Dollar    I   N  \\nHedged N)  \\nClass III ^   III^ \\nNo dividend will be distributed     \\nClass I (Distributing)   Quarterly ^   I  ^ \\nClass I (Sterling Distributing)     I   \\nQuarterly  \\nClass I (Hong Kong Dollar    I   \\nDistributing)   Quarterly  \\nWill be declared every February, May, August and November (distributions will be \\nreinvested unless the Shareholder otherwise specifies in writing)     2  \\n5  8   11    \\n \\nClass I (Monthly Distributing) ^   I  ^ \\nClass I (Hong Kong Dollar Monthly    I   \\nDistributing)  \\nClass I (Australian Dollar Hedged    I   N    \\nN Distributing)   Monthly  \\nClass I (Renminbi Hedged N                    I  N    \\nDistributing)   Monthly  \\nWill be declared at the end of each month (distributions will be reinvested unless the \\nShareholder otherwise specifies in writing and the Fund may at its discretion pay \\ndistributions out of capital. In addition, the Fund may at its discretion pay dividends \\nout of gross income  while charging all or part of the Class   fees and expenses to \\ncapital, resulting in an increase in distributable income and effectively a distribution \\nout of capital.)   \\n     \\n \\n   \\nAny distributions involving payment of dividends out of capital or payment of dividends \\neffectively out of capital (as the case may be) may result in an immediate decrease of \\nthe Net Asset Value per Share.     \\n   \\nThe Investment Manager may change the dividend policy, subject to the prior \\napproval of the Hong Kong Securities and Futures Commission ( SFC ) and by giving \\nnot less than one month  s prior notice to investors.   \\n     \\n   \\nFinancial Year End     31 December  12   31   \\nMinimum Investment     Class I (Distributing)   Quarterly ^   I  ^ \\nClass I (Monthly Distributing) ^   I  ^ First Sentier Asia Strategic  Bond Fund  \\n     \\n Issued by First Sentier Investors (Hong Kong) Limited     3   US$1,000 /initial    1,000  \\nUS$500/additional    500  \\n \\nClass I (Hong Kong Dollar)    I   \\nClass I (Hong Kong Dollar    I   \\nDistributing)   Quarterly  \\nClass I (Hong Kong Dollar Monthly    I   \\nDistributing)  \\nHK$7,500 /initial    7,500  \\nHK$4,000 /additional    4,000  \\n \\nClass I (Renminbi Hedged N                  I  N    \\nDistributing)   Monthly  \\nRMB6,700/initial    6,700  \\nRMB3,350/additional    3,350  \\n \\nClass I (Sterling Accumulation)    I   \\nClass I (Sterling Distributing)     I   \\nQuarterly  \\nGBP 1,000/initial    1,000   \\nGBP  500/additional    500  \\n \\nClass I (Australian Dollar    I   N  \\nHedged N)  \\nClass I (Australian Dollar Hedged    I   N    \\nN Distributing)   Monthly  \\nAUS$1,500/initial    1,500   \\nAUS$ 700/additional    700  \\n \\nClass III ^   III^ \\nUS$500,000/initial    500,000   \\nN/A/additional                                             \\n* The ongoing charges figure ( OCF  ) is based on the annualised expenses from 1 January 2022 to 30 June 2022 . This figure \\nmay vary from year to year.         2022 1 1 2022 6 30   \\n   \\n# The OCF for this unlaunched share class is an estimated annualised  figure based on the OCF for a reference share class of the \\nFund, with adjustment (if necessary) for the investment management fee ( Investment Management Fee  ), the depositary fee \\n( Depositary Fee  ), the administrator fee ( Administrator Fee  ) and (where relevant) costs incurred from currency hedge \\ntransactions . The actual figure may differ upon the launch of the share class, which may vary from year to year.   \\n             \\n                   \\n       \\n^ This share class is denominated in the Fund  s base currency (i.e. US dollar).      \\n   \\n First Sentier Asia Strategic  Bond Fund  \\n     \\n4 Issued by First Sentier Investors (Hong Kong) Limited      What is this product?     ? \\n \\nFirst Sentier Asia Strategic Bond Fund (t he  Fund  ) is a sub -fund of First Sentier Investors Global Umbrella Fund plc (the \\n Company  ). This is a mutual fund domiciled in Ireland and its home regulator is the Central Bank of Ireland.   \\n         \\n   \\n \\nObjectives and Investment Strategy     \\n \\nThe investment objective of the Fund aims  to achieve total return, consisting of both income and capital gains,  through investment \\nin a diversified portfolio of fixed income and similar transferable instruments issued primarily by government and corporate entities \\nin Asia.     \\n    \\nThe Fund invests primar ily (at least 70% of its Net Asset Value) in debt securities of governments or quasi -government organization \\nissuers in Asia and /or issuers organised, headquartered or having their primary business operations in Asia. The Fund may also \\ninvest less than 30%  of its Net Asset Value in treasury bonds of the United States Government.  The Fund is actively  managed \\nwithout reference to a benchmark.     70%   \\n    30%    \\n     \\nThe Investment Manager will strategically allocate debt securities based on a combination of top -down and bottom -up analysis.  \\nThe top -down analysis focuses on optimising  the Fund  s exposure to a range of risk factors such as credit spread, duration, country \\nand currency. In order to make decisions on the appropriate exposure to these factors, the Investment Manager undertakes an \\nongoing assessment of the drivers of return s, such as interest rates, the macro -economic outlook, inflation expectations, fiscal and \\nexternal account balances, market sentiment and geo -political issues. The bottom -up analysis focuses on assessing an individual \\ndebt security  s default risk and value  relative to similar debt securities in the market with information such as country/sector and \\ncompany -specific analysis.  Each investment is subject to analysis from the Investment Manager  s credit specialists who assess the \\ncreditworthiness of the issuer  at the time of investment and monitor it continually for changes.     \\n \\n \\n     \\n \\n   \\nThe Fund is not subject to any limitation on the portion of its Net Asset Value that may be invested in investment grade debt  \\nsecurities (rated as Baa3 or above by Moody  s Investor Services, Inc. or BB B- or above by Standard & Poor  s Corporation or other \\nrecognised rating agencies) , below investment grade debt and convertible securities, or if unrated, of comparable quality as \\ndetermined by the Investment Manager.  The Fund  s investme nt in debt securities may include securities with loss -absorption \\nfeatures (including contingent convertible debt securities, senior non -preferred debt, instruments issued under the resolution regime \\nfor financial institutions and other capital instruments  issued by banks or other financial institutions) which will be less than 30% of \\nthe Fund  s Net Asset Value.   The Fund may also invest in asset -backed securities and/or mortgage -backed securities but any such \\ninvestment will be less than 30% of its Net Ass et Value.    Baa3  \\n   BBB-    \\n       \\n           \\n  30%    30%  \\nIn addition , the Fund will not invest more than 10% of its Net Asset Value in debt securities issued by and/or guaranteed by a single \\nsovereign issuer which is below investment grade.     10%  \\n   \\nThe Fund is not subject to any limitation on the portion of its Net Asset Value that may be invested in debt securities in an y one or \\nmore emerging markets in Asia, or any sector. In respect of the Fund  s exposure to  PRC, investment in onshore PRC debt \\nsecurities and offshore debt securities denominated in Renminbi ( RMB  ) (including Dim Sum bonds) will be less than 30% of the \\nFund   s Net Asset Value.     \\n         \\n  30%  \\nThe debt securities in which the Fund invests are mainly denominated in US dollars or Asian  currencies.   First Sentier Asia Strategic  Bond Fund  \\n     \\n Issued by First Sentier Investors (Hong Kong) Limited     5        \\nAlthough the F und has a regional investment universe, the securities selected for investment based on the Investment Manager  s \\napproach may at times result in a portfolio that is concentrated in certain countries.   \\n   \\nThe Fund may invest less than 30 % of its Net Asset Value in onshore debt securities in the PRC via Bond Connect.   \\n  30%   \\nThe Fund may only use fin ancial derivative instruments (  FDIs  ) for purposes of hedging and efficient portfolio management. It is \\nnot intended that the Fund will avail of the opportunity to invest in FDIs for investment purposes.   \\n         \\nFor defensive purposes during periods of perceived uncertainty an d volatility (e.g. market or major crisis), the Fund may also hold \\nall or part of its assets in cash and/or US Treasuries.      \\n   \\nBenchmark information:     \\nThe Fund is actively managed meaning that the Investment Manager uses its expertise to pick investments rather than tracking the \\nallocation and therefore the performance of a benchmark.   \\n     \\nThe Fund  s performance is not managed in reference to a benchmark.      \\n \\nUse of Derivatives     \\nThe Fund  s net derivative exposure may be up to 50% of the Fund  s Net Asset Value.   \\n  50%  \\n \\nWhat are the key risks?     ? \\nInvestment involves risks. Please refer to the offering document for details including the risk factors.  \\n   \\n  Investment Risk   The value of the Fund  s investment portfolio may fall due to any of the key risk factors below and therefore \\nyour investment in the Fund may suffer losses. There is no guarantee of the repayment of principal.  \\n   \\n   \\n  Single Country/Specific Region Risk   The Fund  s investments may be concentrated in a single country or a small number of \\ncountries in Asia. The value of the Fund may be more volatile than a fund having a more diversified portfolio of investments \\ncovering multiple countries. The value of the Fund may be more susceptible to an adverse economic, political, policy, foreign  \\nexchange, liqui dity, tax, legal or regulatory event affecting the relevant market.  \\n   \\n \\n   \\n  Concentrated Risk   Although the Fund has a global or regional investme nt universe, it may at times invest a large portion of \\nits assets in certain geographical area(s) or countries.  \\n     \\n  Emerging Markets Risk   Investing in emerging markets (countries considered to have social or business activity in the \\nprocess of rapid growth and development) may involve increased risks and special considerations not typically associated with  \\ninvestment in developed markets. T hese risks may include liquidity risk, currency risks/control, political and economic \\nuncertainties, legal and taxation risks, settlement risks, custody risks, the likelihood of a high degree of volatility, mark et \\nsuspension, restrictions on foreign invest ment and control on repatriation of capital.  \\n   \\n \\n   \\n  High Yield Risk   Investing in fixed income securities that are rated below investment grade or are unrated, while usually \\noffering higher yields, are generally subject to lower liquidity, higher volatility and greater risk of loss of principal and  interest First Sentier Asia Strategic  Bond Fund  \\n     \\n6 Issued by First Sentier Investors (Hong Kong) Limited      than high -rated debt securities.  \\n     \\n   \\n  Sovereign Debt Risk   Investing in debt securities issued or guaranteed by governmental entities will subject the Fund to the \\npolitical, social and economic risks of such entities. In adv erse situations, the Fund may be requested to participate in the \\nrestructuring of such debt or to extend further loans to government debtors or sovereign issuers may not be able or willing t o \\nrepay the principal and/or interest when due. The Fund may have limited legal recourse if the debtor defaults and the Fund may \\nsuffer loss as a result.  \\n   \\n \\n   \\n  Convertible Bond Risk   Convertible bonds are a hybrid between debt and equity, permitting the holders to convert into shares \\nin the company issuing the bond at a specified future date. The Fund may invest in convertible debt securities which will be \\nexposed to equity movement a nd may show greater volatility than straight bond investments with an increased risk of capital \\nloss. Factors that may affect the value of convertible bonds include credit risk, interest rate risk, liquidity risk and prep ayment \\nrisk associated with compara ble straight bond investments. Convertible bonds may also have call provisions and other features \\nwhich may give rise to the risk of a call. The value and performance of the Fund may be affected as a result.  \\n     \\n \\n \\n   \\n  Below Investment Grade Debt Securities and Unrated Debt Securities Risk   Investing in below investment grade \\nsecurities and unrated debt securities is more volatile and involves a greater risk of default and price changes due to chang es in \\nthe issuer  s creditworthiness. These securities are generally subject to higher volatility and greater  risk of loss of principal and \\ninterest than high -rated debt securities. Settlement of transactions may be subject to delay and administrative uncertainties. The \\nmarket for these securities may be illiquid and the Fund may not be able to acquire or dispose  of such securities quickly.  \\n   \\n \\n \\n   \\n  Downgrading Risk   Investment grade securities may  be subject to the risk of being downgraded. In the event of downgrading \\nin the credit ratings of a debt instrument or an issuer relating to a debt, the Fund  s investment value in such security may be \\nadversely affected. The Investment Manager may or may n ot be able to dispose of the debt instruments that are being \\ndowngraded.  \\n   \\n   \\n  Credit Risk   Investing in debt or other fixed income securities may expose the Fund to  credit risk if the issuers of those \\nsecurities fail to meet their financial obligations, default or suffer insolvency. This would cause the value of the Fund to be \\naffected negatively.  \\n   \\n     \\n  Interest Rate Risk   Investing in fixed income securities will expose the Fund to movements in interest rates. If rates go up, the \\nvalue of securities fall and if rates go down, the value of securities rise.  \\n     \\n   \\n  Volatility and Liquidity Risk   The securities in certain markets may be subject to higher volatility and lower liquidity compared \\nto more developed markets. The prices of securities traded in such markets may be subject to fluctuati ons. \\n   \\n   \\n  Valuation Risk   Valuation of the Fund  s investments may involve uncertainties and judgmental determinations. If such \\nvaluation turns out to be incorrect, this may affect the Net Asset Value of the Fund.  \\n     \\n  Reliability of Credit Ratings   Credit ratings assigned by rating agencies are subject to limitations and do not guarantee the \\ncreditworthiness of the security and/or issuer at all times.  \\n     First Sentier Asia Strategic  Bond Fund  \\n     \\n Issued by First Sentier Investors (Hong Kong) Limited     7     Market Risk   The Fund  s investment in securities is subject to general market risks, and their values may fluctuate due to \\nvarious factors, such as changes in investor sentiment, political and economic conditions and issuer -specific factors.  \\n   \\n   \\n  Currency Risk   The Fund may buy fixed income securities in currencies other than the base currency of the Fund and a share \\nclass may be designated in  a currency other than the base currency of the Fund. The Net Asset Value of the Fund may be \\naffected unfavourably by fluctuations in the exchange rate between these currencies and the base currency and by changes in \\nexchange rate controls.  \\n       \\n   \\n  Restricted Currency Risk   The Fund may invest in debt securities denominated in Asian currencies. Certain Asian currencies \\nmay not be freely convertible subject to exchange controls and restrictions. Investors may be exposed to foreign exchange ris k \\nand the Net Asset Value of the  Fund may be affected unfavourably by fluctuations in the exchange rates between these \\ncurrencies and the base currency of the Fund.  \\n   -    \\n          \\n  Derivatives Risk   The Fund may use FDIs for purposes of hedging and efficient portfolio management. FDIs that are not \\ntraded on an exchange are subject to, among others, liquidity risk (i.e. the risk that the Fund may not be able to close out a \\nderivative  position in a timely manner and/or at a reasonable price), counterparty risks (i.e. the risk that a counterparty may \\nbecome insolvent and therefore unable to meet its obligations under a transaction), valuation risk, volatility risk and over -the-\\ncounter t ransaction risk. The leverage component of an FDI can result in loss significantly greater than the amount invested in \\nthe FDI by the Fund. In adverse situations, the use of FDIs may become ineffective in achieving hedging or efficient portfoli o \\nmanagement  and may lead to a high risk of significant losses by the Fund.  \\n   \\n   \\n   \\n   \\n   \\n  Currency Hedged Share Class Risk   The Fund may issue classes where the class currency is different to the base currency \\nof the Fund. Accordingly the value of an investor  s investment may be affected favourably or unfavourably by fluctuations in the \\nrates of the different currencies. The Fu nd may create currency hedged share classes to hedge the resulting currency exposure \\nback into the currency of the relevant class. In addition the Fund may invest in assets with various currency denominations \\nother than the base currency, and the Fund may hedge currency exposure due to investing in assets denominated in currencies \\nother than the Fund  s base currency.  \\nWhilst these hedging strategies aim to reduce the losses to an investor  s investment if the currency of that currency hedged \\nshare class or th e currencies of the underlying assets which are denominated in currencies other than the Fund  s base currency \\nfall against that of the base currency of the Fund the use of hedging strategies may substantially limit investor in the rele vant \\nclass from benef iting if the currency of that currency hedged share class rises against that of the base currency of the Fund \\nand/ or the currency in which the assets of the Fund are denominated.  \\nInvestors should be aware that there may be circumstances in which a hedging  transaction may reduce currency gains that \\nwould otherwise arise in the valuation of the Fund. The gains/losses on, and the costs of, such hedging transactions will, to  the \\nextent permitted by applicable law and regulation, be borne on a pro rata basis by  the currency hedged share classes.  \\nInvestors in currency hedged share classes should be aware that the currency hedging process for both types of currency \\nhedged share classes may not give a precise hedge. Hedging transactions are designed to reduce, as m uch as possible, the \\ncurrency risk for investors. However, there is no guarantee that the hedging will be totally successful and no hedging strate gy \\ncan eliminate currency risk entirely. Should a hedging strategy be incomplete or unsuccessful, the value of  the Fund  s assets \\nand income can remain vulnerable to fluctuations in currency exchange rate movements.  \\nInvestors in the currency hedged share classes may have exposure to currencies other than the currency of their share class \\nand may also be exposed to the risks associated with the instruments used in the hedging process.  \\n   \\n \\n   \\n    \\n \\n   \\n \\n   First Sentier Asia Strategic  Bond Fund  \\n     \\n8 Issued by First Sentier Investors (Hong Kong) Limited         \\n    \\n   \\n   \\n  RMB Currency and Conversion Risks     RMB  is currently not freely convertible and is subject to exchange controls and \\nrestrictions. Non -RMB based investors are exposed to foreign exchange risk and there is no guarantee that the value of RMB \\nagainst the investors  base currencies (for example HKD)  will not depreciate. Any depreciation of RMB could adversely affect \\nthe value of investor s investment in the Fund. Although offshore RMB (CNH) and onshore RMB (CNY) are the same currency, \\nthey trade at different rates. Any divergence between CNH and CNY may adversely impact investors. Under exceptional \\ncircumstances, payment of redemptions and/or dividend payment in RMB may be delayed due to the exchange controls and \\nrestrictions applicable to RMB.  \\n           \\n   \\n  CNH  CNY    CNH CNY \\n       \\n  \\n  Risks associated with distributions or paying fees and expenses out of capital   (i) Payment of dividends out of capital or \\n(ii) payment of fees and expenses out of capital to increase distributable income amounts to a return or withdrawal of part o f an \\ninvestor  s original investment or from any capital gains attributable to that original investment. Any such payments or \\ndistributions involving payment of dividends out of the Fund  s capital or payment of dividends effectively out of the Fund  s \\ncapital (as t he case may be) may result in an immediate decrease of the Net Asset Value per Share.  \\n  (i)    (ii)  \\n \\n   \\n \\nHow has the Fund performed?     ? \\n \\n \\n \\n \\nThe performance of these years were achieved under circumstances that no longer apply,  \\nthe investment policy was changed since 2019.  \\n  2019   \\n \\n \\n  First Sentier Asia Strategic  Bond Fund   Class I (Dist)   Quarterly        \\n     I                                                 \\n \\n  The Manager views Class I (Dist)   Quarterly, being the retail share class denominated in the Fund  s base currency, as the \\nmost appropriate representative share class.    I \\n   11.0%\\n-2.3%6.0%\\n1.3%3.7%5.4%\\n-2.5%13.5%\\n7.0%\\n-10.5%\\n-20.0%-10.0%0.0%10.0%20.0%\\n2012 2013 2014 2015 2016 2017 2018 2019 2020 2021First Sentier Asia Strategic  Bond Fund  \\n     \\n Issued by First Sentier Investors (Hong Kong) Limited     9     The Fund had a material change on 30 May 2019.    2019 5 30    \\n  The investment objective and policy of the Fund was changed on 30 May 2019 to allow the Fund  s Investment Manager to \\nadopt a combined top -down and bottom -up strategy in allocating the Fund  s investments in debt securities in accordance with \\nthe Fund  s new investment objective and to allow the Fund to hold all or part of its assets in cash and/or US Treasuries for \\ndefensive purposes. Performance of the Fund before this date was achieved under circumstances that no longer apply.   \\n  2019 5 30   \\n       \\n   \\n  Past performance information is not indicative of future performance. Investors may not get back the full amount invested.   \\n   \\n  The computation basis of the performance is based on  the calendar year end, Net Asset Value to Net Asset Value, with dividend \\nreinvested.     \\n  These figures show by how much the share class increased or decreased in value during the calendar year being shown. \\nPerformance data has  been calculated in USD including ongoing charges and excluding subscription fee and redemption fee \\nyou might have to pay.     \\n   \\n \\nFund launch date: 2003.  \\n  2003  \\nClass I (Dist)   Quarterly launch date: 2003 . \\n  I  2003  \\n \\nIs there  any guarantee?     ? \\n \\nThis Fund does not have any guarantees. You may not get back the full amount of money you invest.  \\n   \\n \\nWhat are the fees and charges?     ? \\n \\nCharges which may be payable by you     \\nYou may have to pay the following fees when dealing in the Shares of the Fund.     \\n \\nFee   What you pay     \\nSubscription Fee (Sales Charge)  \\n   Up to 5% of the amount you buy  \\n   5% \\nSwitching Fee     Up to 1% of the Net Asset Value of the Shares to be exchanged  \\n   1% \\nRedemption Fee     Not applicable     \\nAnti-Dilution Adjustment     Shall not exceed 2% of the subscription/redemption monies on the relevant Dealing \\nDay, where applicable   \\n  2% \\n \\nOngoing fees payable by the Fund     \\nThe following expenses will be paid out of the Fund. They affect you because they reduce the return you get on your investments.  \\n   \\n \\nFee   Annual rate (as a % of the Fund  s Net Asset Value)     \\n   First Sentier Asia Strategic  Bond Fund  \\n     \\n10 Issued by First Sentier Investors (Hong Kong) Limited      Investment Management Fee*   \\n * Up to 3%  (Class I (Distributing)   Quarterly ^, Class  I (Monthly Distributing) ^, Class I \\n(Hong Kong Dollar Monthly Distributing), Class I (Hong Kong Dollar), Class I (Hong \\nKong Dollar Distributing)   Quarterly, Class I (Sterling Accumulation), Class I (Sterling \\nDistributing)   Quarterly, Class I (Australian Dollar Hedged N), Class I (Australian \\nDollar Hedged N Distributing)   Monthly , Class I (Renminbi Hedged N Distributing)   \\nMonthly : currently 1.00%;  Class III ^: currently 0.30% ) \\n  3%  I  ^  I  ^  I   \\n    I    I  I    I \\n  I   N    I   N     I \\n  N     1.00%  III^   0.30%  \\n^ This share class is denominated in the Fund  s base currency (i.e. US dollar).   \\n   \\nDepositary Fee     0.01%  \\n \\nIn addition, the following are payable to the Depositary out of the assets of the Fund:  \\n   \\n  Safe-keeping fees of up to 0.45% in aggregate   0.45%   \\n  Transaction charges at normal commercial rates for security transactions  \\n   \\n  Reimbursement of all reasonable o ut-of-pocket expenses incurred on behalf of \\nthe Fund          \\nAdministrator Fee     Up to 0.03%  \\n  0.03%  \\nIn addition, the following are payable to the Administrator out of the assets of the \\nFund:     \\n  Transaction charges at normal commercial rates for processing subscriptions, \\nredemptions, transfers and other shareholder related transactions and \\nadministrative activities  \\n   \\n  Reimbursement of all reasonable out -of-pocket expenses incurred on behalf of \\nthe Fund          \\nPerformance Fee     Not applicable     \\n* The current investment management fee may be increased up to a specified maximum level, by giving investors three months \\nwritten notice.     \\nFor any increase in other fees listed herein, prior approval of the SFC is required and no less than one month  s prior written notice \\nwill be given to investors.   \\n   \\nOther Fees   You may have to pay other fees and charges when dealing in the Shares of the Fund. Investors should refer to the \\noffering document for a full description of the fees and charges associated with an investment in the Fund.  \\n     \\n   \\n \\nAdditional information     \\n \\n  You generally buy, redeem and switch Shares at the Fund  s next determined Net Asset Value after First Sentier Investors (Hong \\nKong) L imited  or intermediaries receive your request in good order on or before 5pm Hong Kong time  being the dealing cut -off \\ntime, or such other dealing cut -off time as the intermediaries may impose.       \\n   \\n   \\n  The intermediaries may impose different dealing deadlines for receiving instructions for subscriptions, redemptions or switch ing. First Sentier Asia Strategic  Bond Fund  \\n     \\n Issued by First Sentier Investors (Hong Kong) Limited     11   Investors should pay attention to the arrangements of the intermediaries conc erned.   \\n   \\n  The Net Asset Value of this Fund is calculated and the price of Share s published each  business day  . They are available online \\nat www. firstsentierinvestors .com . Investors may also obtain the past performance information of other share classes offered to \\nHong Kong investors from the aforementioned website. The website has not been reviewed or authorised by the SFC.   \\n    www.firstsentierin vestors.com  \\n     \\n  The compositions of the latest dividends (relative amounts paid out of (i) net distributable income and (ii) capital) for the  last 12 \\nmonths are available from the Hong Kong Representative upo n request and on www.firstsentierinvestors.com. The website has \\nnot been reviewed or authorised by the SFC.     12    (i)  \\n   (ii)   www.firstsentierinvestors.com    \\n \\nImportant     \\n \\nIf you are in  doubt, you sho uld seek professional advice.     \\nThe SFC takes no responsibility for the contents of this statement and makes no representation as to its accuracy or complete ness.  \\n   '"
      ]
     },
     "execution_count": 23,
     "metadata": {},
     "output_type": "execute_result"
    }
   ],
   "source": [
    "str(text)"
   ]
  },
  {
   "cell_type": "code",
   "execution_count": 60,
   "metadata": {},
   "outputs": [
    {
     "data": {
      "text/plain": [
       "['0%',\n",
       " '0%',\n",
       " '0%',\n",
       " '0%',\n",
       " '0%',\n",
       " '0%',\n",
       " '0%',\n",
       " '0%',\n",
       " '0%',\n",
       " '0%',\n",
       " '0%',\n",
       " '0%',\n",
       " '0%',\n",
       " '0%',\n",
       " '0%',\n",
       " '0%',\n",
       " '3%',\n",
       " '0%',\n",
       " '3%',\n",
       " '7%',\n",
       " '4%',\n",
       " '5%',\n",
       " '5%',\n",
       " '0%',\n",
       " '5%',\n",
       " '0%',\n",
       " '0%',\n",
       " '0%',\n",
       " '0%',\n",
       " '0%',\n",
       " '5%',\n",
       " '5%',\n",
       " '1%',\n",
       " '1%',\n",
       " '2%',\n",
       " '2%']"
      ]
     },
     "execution_count": 60,
     "metadata": {},
     "output_type": "execute_result"
    }
   ],
   "source": [
    "# match the pattern after a given word\n",
    "def match_pattern(text, word, pattern):\n",
    "    text = text.split(word)\n",
    "    return re.findall(pattern, text[1], flags=re.IGNORECASE)\n",
    "\n",
    "# set a pattern like 1.455%\n",
    "pattern1 = r'[0-9]{1,1}%'\n",
    "match_pattern(text, 'Investment Management Fee', pattern1)\n",
    "\n"
   ]
  },
  {
   "cell_type": "code",
   "execution_count": 7,
   "metadata": {},
   "outputs": [],
   "source": [
    "# find the nearest 'day', 'daily' after the word 'frequency'\n",
    "\n",
    "\n",
    "\n",
    "\n",
    "\n"
   ]
  }
 ],
 "metadata": {
  "kernelspec": {
   "display_name": "Python 3.9.13 ('base')",
   "language": "python",
   "name": "python3"
  },
  "language_info": {
   "codemirror_mode": {
    "name": "ipython",
    "version": 3
   },
   "file_extension": ".py",
   "mimetype": "text/x-python",
   "name": "python",
   "nbconvert_exporter": "python",
   "pygments_lexer": "ipython3",
   "version": "3.9.13"
  },
  "orig_nbformat": 4,
  "vscode": {
   "interpreter": {
    "hash": "72af1ffc75a182d8026fd8f0e4608e6219cf801f8e77b227b63b94805427af6d"
   }
  }
 },
 "nbformat": 4,
 "nbformat_minor": 2
}
