{
 "cells": [
  {
   "cell_type": "code",
   "execution_count": 37,
   "metadata": {},
   "outputs": [],
   "source": [
    "from PyPDF2 import PdfReader\n",
    "import os\n",
    "import re\n",
    "\n",
    "path = \"data/Key_Stats/\"\n",
    "files = os.listdir(path)\n",
    "\n",
    "dir1 = path + files[178]"
   ]
  },
  {
   "cell_type": "code",
   "execution_count": 30,
   "metadata": {},
   "outputs": [],
   "source": [
    "def file_id(file):\n",
    "    pattern = r'[A-Z]{3,3}[0-9]{3,3}'\n",
    "    return re.findall(pattern, file)\n",
    "\n",
    "def read_page(dir, page):\n",
    "    pdf = PdfReader(dir)\n",
    "    return pdf.pages[page].extract_text()\n",
    "\n",
    "def read_pages(dir):\n",
    "    text = ''\n",
    "    pdf = PdfReader(dir)\n",
    "    for page in pdf.pages:\n",
    "        text += page.extract_text()\n",
    "    return text\n",
    "\n",
    "def split_text(text, words):\n",
    "    return [text.split(word) for word in words]\n",
    "\n",
    "# split the text by a list of words no matter the capitalization\n",
    "def split_text2(text, words):\n",
    "    pattern = '|'.join(words)\n",
    "    return re.split(pattern, text, flags=re.IGNORECASE)\n",
    "\n",
    "# delete all the non-english characters\n",
    "def delete_non_english(text):\n",
    "    return re.sub(r'[^\\x00-\\x7F]+',' ', text)\n",
    "\n"
   ]
  },
  {
   "cell_type": "code",
   "execution_count": 46,
   "metadata": {},
   "outputs": [],
   "source": [
    "# divide the text by a dict, value is a list of words\n",
    "def split_text4(text, dicts):\n",
    "    for key in list(section_dict.keys()):\n",
    "        for value in section_dict[key]:\n",
    "            pattern = '|'.join(value)\n",
    "            \n",
    "\n",
    "\n",
    "\n",
    "def split_text3(text, dicts):\n",
    "    for key, value in dicts.items():\n",
    "        pattern = '|'.join(value)\n",
    "        text = re.split(pattern, text, flags=re.IGNORECASE)\n",
    "    return text\n",
    "\n",
    "section_dict = {'fact':['Quick Facts'], \\\n",
    "                'strategy':['Objective and Investment Strategy', 'Objectives and Investment Strategy'], \\\n",
    "                'derivative':['Use of derivatives', 'investment in derivatives'], \\\n",
    "                'risk':['What are the key risks'], \\\n",
    "                'performance':['How has the Sub-Fund performed', 'How has the Fund performed'], \\\n",
    "                'guarantee':['Is there any guarantee'], \\\n",
    "                'fees':['What are the fees', 'What are the fees and charges'], \\\n",
    "                'misc':['Additional Information']\n",
    "}\n"
   ]
  },
  {
   "cell_type": "code",
   "execution_count": 55,
   "metadata": {},
   "outputs": [
    {
     "data": {
      "text/plain": [
       "'fact'"
      ]
     },
     "execution_count": 55,
     "metadata": {},
     "output_type": "execute_result"
    }
   ],
   "source": [
    "list(section_dict.keys())[0]"
   ]
  },
  {
   "cell_type": "code",
   "execution_count": 44,
   "metadata": {},
   "outputs": [],
   "source": [
    "section_list = ['Quick Facts', \\\n",
    "                #'What is this product?',\\\n",
    "                'Objective and Investment Strategy', 'Objectives and Investment Strategy'\\\n",
    "                'Use of derivatives', 'investment in derivatives', \\\n",
    "                'What are the key risks', \\\n",
    "                'How has the Sub-Fund performed', \\\n",
    "                'Is there any guarantee', \\\n",
    "                'What are the fees and charges', \\\n",
    "                'Additional Information'\n",
    "                ]\n",
    "\n",
    "\n"
   ]
  },
  {
   "cell_type": "code",
   "execution_count": 41,
   "metadata": {},
   "outputs": [],
   "source": [
    "text = read_pages(dir1)\n",
    "text = delete_non_english(text)"
   ]
  },
  {
   "cell_type": "code",
   "execution_count": 45,
   "metadata": {},
   "outputs": [],
   "source": [
    "temp = split_text2(text, section_list)\n"
   ]
  },
  {
   "cell_type": "code",
   "execution_count": 60,
   "metadata": {},
   "outputs": [
    {
     "data": {
      "text/plain": [
       "['0%',\n",
       " '0%',\n",
       " '0%',\n",
       " '0%',\n",
       " '0%',\n",
       " '0%',\n",
       " '0%',\n",
       " '0%',\n",
       " '0%',\n",
       " '0%',\n",
       " '0%',\n",
       " '0%',\n",
       " '0%',\n",
       " '0%',\n",
       " '0%',\n",
       " '0%',\n",
       " '3%',\n",
       " '0%',\n",
       " '3%',\n",
       " '7%',\n",
       " '4%',\n",
       " '5%',\n",
       " '5%',\n",
       " '0%',\n",
       " '5%',\n",
       " '0%',\n",
       " '0%',\n",
       " '0%',\n",
       " '0%',\n",
       " '0%',\n",
       " '5%',\n",
       " '5%',\n",
       " '1%',\n",
       " '1%',\n",
       " '2%',\n",
       " '2%']"
      ]
     },
     "execution_count": 60,
     "metadata": {},
     "output_type": "execute_result"
    }
   ],
   "source": [
    "# match the pattern after a given word\n",
    "def match_pattern(text, word, pattern):\n",
    "    text = text.split(word)\n",
    "    return re.findall(pattern, text[1], flags=re.IGNORECASE)\n",
    "\n",
    "# set a pattern like 1.455%\n",
    "pattern1 = r'[0-9]{1,1}%'\n",
    "match_pattern(text, 'Investment Management Fee', pattern1)\n",
    "\n"
   ]
  },
  {
   "cell_type": "code",
   "execution_count": 7,
   "metadata": {},
   "outputs": [],
   "source": [
    "# find the nearest 'day', 'daily' after the word 'frequency'\n",
    "\n",
    "\n",
    "\n",
    "\n",
    "\n"
   ]
  }
 ],
 "metadata": {
  "kernelspec": {
   "display_name": "Python 3.9.13 ('base')",
   "language": "python",
   "name": "python3"
  },
  "language_info": {
   "codemirror_mode": {
    "name": "ipython",
    "version": 3
   },
   "file_extension": ".py",
   "mimetype": "text/x-python",
   "name": "python",
   "nbconvert_exporter": "python",
   "pygments_lexer": "ipython3",
   "version": "3.9.13"
  },
  "orig_nbformat": 4,
  "vscode": {
   "interpreter": {
    "hash": "72af1ffc75a182d8026fd8f0e4608e6219cf801f8e77b227b63b94805427af6d"
   }
  }
 },
 "nbformat": 4,
 "nbformat_minor": 2
}
