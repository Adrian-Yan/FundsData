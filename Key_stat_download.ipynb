{
 "cells": [
  {
   "cell_type": "code",
   "execution_count": 21,
   "metadata": {},
   "outputs": [],
   "source": [
    "import pandas as pd \n",
    "import numpy as np\n",
    "import selenium\n",
    "from selenium import webdriver\n",
    "\n",
    "options = webdriver.ChromeOptions()\n",
    "prefs = {\"profile.default_content_settings.popups\": 0,\n",
    "        \"download.default_directory\": r\"C:\\Projects\\FundsData\\data\\Key_Stats\\\\\", # IMPORTANT - ENDING SLASH V IMPORTANT\n",
    "        \"directory_upgrade\": True}\n",
    "options.add_experimental_option(\"prefs\",prefs)\n",
    "browser = webdriver.Chrome(executable_path=r\"C:\\Program Files\\Development\\chromedriver.exe\", options=options)\n",
    "fund_list = pd.read_csv('data/fund_list.csv')\n"
   ]
  },
  {
   "cell_type": "code",
   "execution_count": 22,
   "metadata": {},
   "outputs": [],
   "source": [
    "for i in range(15):\n",
    "    if type(fund_list.iloc[i]['doc_url']) != float:\n",
    "        url = fund_list.iloc[i]['doc_url']\n",
    "        browser.get(url)\n",
    "        try:\n",
    "            browser.find_element_by_xpath('/html/body/div/div/div[3]/div/div/div/div[2]/table/tbody/tr[3]/td/a').click()\n",
    "        except:\n",
    "            pass"
   ]
  }
 ],
 "metadata": {
  "kernelspec": {
   "display_name": "Python 3.9.13 ('base')",
   "language": "python",
   "name": "python3"
  },
  "language_info": {
   "codemirror_mode": {
    "name": "ipython",
    "version": 3
   },
   "file_extension": ".py",
   "mimetype": "text/x-python",
   "name": "python",
   "nbconvert_exporter": "python",
   "pygments_lexer": "ipython3",
   "version": "3.9.13"
  },
  "orig_nbformat": 4,
  "vscode": {
   "interpreter": {
    "hash": "72af1ffc75a182d8026fd8f0e4608e6219cf801f8e77b227b63b94805427af6d"
   }
  }
 },
 "nbformat": 4,
 "nbformat_minor": 2
}
