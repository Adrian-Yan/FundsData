{
 "cells": [
  {
   "cell_type": "code",
   "execution_count": 3,
   "metadata": {},
   "outputs": [],
   "source": [
    "import pandas as pd \n",
    "import numpy as np\n",
    "import selenium\n",
    "from selenium import webdriver\n",
    "import time\n",
    "\n",
    "doc_dir = 'C:\\Projects\\FundsData\\data\\{}\\Key_Stats\\\\'.format(pd.to_datetime('today').strftime('%Y-%m-%d'))\n",
    "options = webdriver.ChromeOptions()\n",
    "prefs = {\"profile.default_content_settings.popups\": 0,\n",
    "        \"download.default_directory\": doc_dir, # IMPORTANT - ENDING SLASH V IMPORTANT\n",
    "        \"directory_upgrade\": True}\n",
    "options.add_experimental_option(\"prefs\",prefs)\n",
    "browser = webdriver.Chrome(executable_path=r\"C:\\Program Files\\Development\\chromedriver.exe\", options=options)\n",
    "fund_list = pd.read_csv('data/{}/fund_list_{}.csv'.format(today, today))"
   ]
  },
  {
   "cell_type": "code",
   "execution_count": 2,
   "metadata": {},
   "outputs": [
    {
     "data": {
      "text/plain": [
       "'C:\\\\Projects\\\\FundsData\\\\data\\\\2022-12-10\\\\Key_Stats\\\\'"
      ]
     },
     "execution_count": 2,
     "metadata": {},
     "output_type": "execute_result"
    }
   ],
   "source": [
    "for i in range(fund_list.shape[0]):\n",
    "    fund_list.loc[i, 'doc'] = 1 if type(fund_list.iloc[i]['doc_url']) != float else np.nan\n",
    "fund_list.to_csv('data/{}/fund_list_{}.csv'.format(today, today), index=False)"
   ]
  },
  {
   "cell_type": "code",
   "execution_count": null,
   "metadata": {},
   "outputs": [],
   "source": [
    "for i in range(fund_list.shape[0]):\n",
    "    if type(fund_list.iloc[i]['doc_url']) != float:\n",
    "        url = fund_list.iloc[i]['doc_url']\n",
    "        browser.get(url)\n",
    "        try:\n",
    "            browser.find_element_by_xpath(\"//*[contains(text(), 'Product Key Facts Statement')]\").click()\n",
    "        except:\n",
    "            fund_list.loc[i, 'doc'] = 0\n",
    "            fund_list.to_csv('data/fund_list.csv', index=False)\n",
    "            pass\n",
    "    time.sleep(np.random.uniform(1, 3))"
   ]
  },
  {
   "cell_type": "code",
   "execution_count": 4,
   "metadata": {},
   "outputs": [],
   "source": [
    "browser.close()"
   ]
  },
  {
   "cell_type": "code",
   "execution_count": 6,
   "metadata": {},
   "outputs": [],
   "source": []
  },
  {
   "cell_type": "code",
   "execution_count": null,
   "metadata": {},
   "outputs": [],
   "source": []
  }
 ],
 "metadata": {
  "kernelspec": {
   "display_name": "base",
   "language": "python",
   "name": "python3"
  },
  "language_info": {
   "codemirror_mode": {
    "name": "ipython",
    "version": 3
   },
   "file_extension": ".py",
   "mimetype": "text/x-python",
   "name": "python",
   "nbconvert_exporter": "python",
   "pygments_lexer": "ipython3",
   "version": "3.9.13"
  },
  "orig_nbformat": 4,
  "vscode": {
   "interpreter": {
    "hash": "72af1ffc75a182d8026fd8f0e4608e6219cf801f8e77b227b63b94805427af6d"
   }
  }
 },
 "nbformat": 4,
 "nbformat_minor": 2
}
