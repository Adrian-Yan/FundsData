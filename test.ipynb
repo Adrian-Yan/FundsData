{
 "cells": [
  {
   "cell_type": "code",
   "execution_count": 1,
   "metadata": {},
   "outputs": [],
   "source": [
    "import pandas as pd\n",
    "import numpy as np\n",
    "\n",
    "fund_list = pd.read_csv('data/temp/fund_list_2022-12-05.csv')"
   ]
  },
  {
   "cell_type": "code",
   "execution_count": 10,
   "metadata": {},
   "outputs": [
    {
     "name": "stdout",
     "output_type": "stream",
     "text": [
      "Funds under Chapter 7 of the Code on Unit Trusts and Mutual Funds (excluding funds with guaranteed features) 409\n",
      "Unit Portfolio Management Funds (Ch 8.1) 0\n",
      "Money Market Funds (Ch 8.2) 52\n",
      "Futures and Options Funds (Ch 8.4A) 0\n",
      "Funds with guaranteed features 0\n",
      "Index Funds (Ch 8.6) 45\n",
      "Hedge Funds (Ch 8.7) 0\n",
      "Structured Funds (Ch 8.8) 2\n",
      "Funds that invest extensively in financial derivative instruments (Ch 8.9) 0\n",
      "UCITS Funds 1201\n",
      "Recognised Mainland Funds 0\n",
      "Recognised Malaysian Islamic Funds 0\n",
      "Recognised Luxembourg UCITS Funds 4\n"
     ]
    }
   ],
   "source": [
    "type_dict = {1: 'All', 2: 'Funds under Chapter 7 of the Code on Unit Trusts and Mutual Funds (excluding funds with guaranteed features)', 3: 'Unit Portfolio Management Funds (Ch 8.1)', 4: 'Money Market Funds (Ch 8.2)', 5: 'Futures and Options Funds (Ch 8.4A)', 6: 'Funds with guaranteed features', 7: 'Index Funds (Ch 8.6)', 8: 'Hedge Funds (Ch 8.7)', 9: 'Structured Funds (Ch 8.8)', 10: 'Funds that invest extensively in financial derivative instruments (Ch 8.9)', 11: 'UCITS Funds', 12: 'Recognised Mainland Funds', 13: 'Recognised Malaysian Islamic Funds', 14: 'Recognised Luxembourg UCITS Funds'}\n",
    "for n in range(2,15):\n",
    "    temp = fund_list['type'].apply(lambda x: x.split(';')[n-2])\n",
    "    print(type_dict[n], temp.apply(lambda x: 1 if x != '0' else 0).sum())"
   ]
  },
  {
   "cell_type": "code",
   "execution_count": 5,
   "metadata": {},
   "outputs": [],
   "source": [
    "fee = pd.read_csv('data/fee_table_1.csv')\n",
    "# num of unique id\n",
    "len(fee['id'].unique())\n",
    "# delete duplicated id\n",
    "fee = fee.drop_duplicates(subset=['id'], keep='first')\n",
    "fee.columns = ['id_subfund', 'subscription', 'switching', 'redemption', 'management',\n",
    "       'trustee', 'performance', 'admin']\n",
    "# keep only funds with id in fee\n",
    "fund_list = fund_list[fund_list['id_subfund'].isin(fee['id_subfund'])]\n",
    "fund_list = pd.merge(fund_list, fee, on='id_subfund', how='left')"
   ]
  },
  {
   "cell_type": "code",
   "execution_count": 13,
   "metadata": {},
   "outputs": [],
   "source": [
    "# data analysis\n",
    "fund_list['year'] = fund_list['date_auth'].apply(lambda x: int(x.split('-')[0]))\n",
    "# set time window\n",
    "df = fund_list.loc[fund_list['year'] >= 2019]"
   ]
  },
  {
   "cell_type": "code",
   "execution_count": 14,
   "metadata": {},
   "outputs": [],
   "source": [
    "df.to_csv('data/temp/output_2022-12-05.csv', index=False)"
   ]
  },
  {
   "cell_type": "code",
   "execution_count": 10,
   "metadata": {},
   "outputs": [],
   "source": []
  },
  {
   "cell_type": "code",
   "execution_count": 11,
   "metadata": {},
   "outputs": [],
   "source": []
  },
  {
   "cell_type": "code",
   "execution_count": null,
   "metadata": {},
   "outputs": [],
   "source": []
  }
 ],
 "metadata": {
  "kernelspec": {
   "display_name": "Python 3.9.13 ('base')",
   "language": "python",
   "name": "python3"
  },
  "language_info": {
   "codemirror_mode": {
    "name": "ipython",
    "version": 3
   },
   "file_extension": ".py",
   "mimetype": "text/x-python",
   "name": "python",
   "nbconvert_exporter": "python",
   "pygments_lexer": "ipython3",
   "version": "3.9.13"
  },
  "orig_nbformat": 4,
  "vscode": {
   "interpreter": {
    "hash": "72af1ffc75a182d8026fd8f0e4608e6219cf801f8e77b227b63b94805427af6d"
   }
  }
 },
 "nbformat": 4,
 "nbformat_minor": 2
}
