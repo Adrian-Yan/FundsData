{
 "cells": [
  {
   "cell_type": "code",
   "execution_count": 1,
   "metadata": {},
   "outputs": [],
   "source": [
    "import pandas as pd \n",
    "import numpy as np\n"
   ]
  },
  {
   "cell_type": "code",
   "execution_count": 1,
   "metadata": {},
   "outputs": [],
   "source": [
    "from PyPDF2 import PdfReader\n",
    "path = \"data/Key_Stats/\"\n",
    "files = os.listdir(path)\n",
    "\n",
    "dir1 = path + files[178]\n",
    "\n",
    "reader = PdfReader(dir1)\n",
    "page = reader.pages[3]\n",
    "\n"
   ]
  },
  {
   "cell_type": "code",
   "execution_count": 10,
   "metadata": {},
   "outputs": [],
   "source": [
    "import ctypes\n",
    "from ctypes.util import find_library\n",
    "find_library(\"\".join((\"gsdll\", str(ctypes.sizeof(ctypes.c_voidp) * 8), \".dll\")))"
   ]
  },
  {
   "cell_type": "code",
   "execution_count": 1,
   "metadata": {},
   "outputs": [],
   "source": [
    "import pandas as pd\n",
    "\n",
    "csv = pd.read_csv(\"data/fund_list.csv\")"
   ]
  },
  {
   "cell_type": "code",
   "execution_count": 6,
   "metadata": {},
   "outputs": [
    {
     "data": {
      "text/plain": [
       "1       CMS Asset Management (HK) Co., Limited\n",
       "919     CMS Asset Management (HK) Co., Limited\n",
       "1052    CMS Asset Management (HK) Co., Limited\n",
       "1053    CMS Asset Management (HK) Co., Limited\n",
       "Name: Issuer, dtype: object"
      ]
     },
     "execution_count": 6,
     "metadata": {},
     "output_type": "execute_result"
    }
   ],
   "source": [
    "temp = csv[\"Issuer\"]\n",
    "# find item containing \"CMS\"\n",
    "temp[temp.str.contains(\"CMS\")]"
   ]
  },
  {
   "cell_type": "code",
   "execution_count": 7,
   "metadata": {},
   "outputs": [
    {
     "data": {
      "text/html": [
       "<div>\n",
       "<style scoped>\n",
       "    .dataframe tbody tr th:only-of-type {\n",
       "        vertical-align: middle;\n",
       "    }\n",
       "\n",
       "    .dataframe tbody tr th {\n",
       "        vertical-align: top;\n",
       "    }\n",
       "\n",
       "    .dataframe thead th {\n",
       "        text-align: right;\n",
       "    }\n",
       "</style>\n",
       "<table border=\"1\" class=\"dataframe\">\n",
       "  <thead>\n",
       "    <tr style=\"text-align: right;\">\n",
       "      <th></th>\n",
       "      <th>Product_Name</th>\n",
       "      <th>Sub_Fund_Name</th>\n",
       "      <th>Issuer</th>\n",
       "      <th>Auth_Date</th>\n",
       "      <th>Doc</th>\n",
       "      <th>Deriv_Fund</th>\n",
       "      <th>Product_ID</th>\n",
       "      <th>Sub_Fund_ID</th>\n",
       "      <th>doc_url</th>\n",
       "      <th>doc</th>\n",
       "    </tr>\n",
       "  </thead>\n",
       "  <tbody>\n",
       "    <tr>\n",
       "      <th>1</th>\n",
       "      <td>CMS Funds (AYF849)</td>\n",
       "      <td>CMS Money Market Fund (BSX133)</td>\n",
       "      <td>CMS Asset Management (HK) Co., Limited</td>\n",
       "      <td>7/11/2022</td>\n",
       "      <td></td>\n",
       "      <td>No</td>\n",
       "      <td>AYF849</td>\n",
       "      <td>BSX133</td>\n",
       "      <td>NaN</td>\n",
       "      <td>NaN</td>\n",
       "    </tr>\n",
       "    <tr>\n",
       "      <th>919</th>\n",
       "      <td>CMS Funds (AYF849)</td>\n",
       "      <td>CMS Hong Kong Multi Income Fund (BAZ964)</td>\n",
       "      <td>CMS Asset Management (HK) Co., Limited</td>\n",
       "      <td>2/12/2013</td>\n",
       "      <td>Offering Documents</td>\n",
       "      <td>No</td>\n",
       "      <td>AYF849</td>\n",
       "      <td>BAZ964</td>\n",
       "      <td>https://apps.sfc.hk/productlistWeb/searchProdu...</td>\n",
       "      <td>1.0</td>\n",
       "    </tr>\n",
       "    <tr>\n",
       "      <th>1052</th>\n",
       "      <td>CMS Funds (AYF849)</td>\n",
       "      <td>NaN</td>\n",
       "      <td>CMS Asset Management (HK) Co., Limited</td>\n",
       "      <td>6/1/2012</td>\n",
       "      <td>Offering Documents</td>\n",
       "      <td>NaN</td>\n",
       "      <td>AYF849</td>\n",
       "      <td>NaN</td>\n",
       "      <td>https://apps.sfc.hk/productlistWeb/searchProdu...</td>\n",
       "      <td>0.0</td>\n",
       "    </tr>\n",
       "    <tr>\n",
       "      <th>1053</th>\n",
       "      <td>CMS Funds (AYF849)</td>\n",
       "      <td>CMS China Opportunities Flexifund (AYF850)</td>\n",
       "      <td>CMS Asset Management (HK) Co., Limited</td>\n",
       "      <td>6/1/2012</td>\n",
       "      <td>Offering Documents</td>\n",
       "      <td>No</td>\n",
       "      <td>AYF849</td>\n",
       "      <td>AYF850</td>\n",
       "      <td>https://apps.sfc.hk/productlistWeb/searchProdu...</td>\n",
       "      <td>1.0</td>\n",
       "    </tr>\n",
       "  </tbody>\n",
       "</table>\n",
       "</div>"
      ],
      "text/plain": [
       "            Product_Name                               Sub_Fund_Name  \\\n",
       "1     CMS Funds (AYF849)              CMS Money Market Fund (BSX133)   \n",
       "919   CMS Funds (AYF849)    CMS Hong Kong Multi Income Fund (BAZ964)   \n",
       "1052  CMS Funds (AYF849)                                         NaN   \n",
       "1053  CMS Funds (AYF849)  CMS China Opportunities Flexifund (AYF850)   \n",
       "\n",
       "                                      Issuer  Auth_Date                 Doc  \\\n",
       "1     CMS Asset Management (HK) Co., Limited  7/11/2022                       \n",
       "919   CMS Asset Management (HK) Co., Limited  2/12/2013  Offering Documents   \n",
       "1052  CMS Asset Management (HK) Co., Limited   6/1/2012  Offering Documents   \n",
       "1053  CMS Asset Management (HK) Co., Limited   6/1/2012  Offering Documents   \n",
       "\n",
       "     Deriv_Fund Product_ID Sub_Fund_ID  \\\n",
       "1            No     AYF849      BSX133   \n",
       "919          No     AYF849      BAZ964   \n",
       "1052        NaN     AYF849         NaN   \n",
       "1053         No     AYF849      AYF850   \n",
       "\n",
       "                                                doc_url  doc  \n",
       "1                                                   NaN  NaN  \n",
       "919   https://apps.sfc.hk/productlistWeb/searchProdu...  1.0  \n",
       "1052  https://apps.sfc.hk/productlistWeb/searchProdu...  0.0  \n",
       "1053  https://apps.sfc.hk/productlistWeb/searchProdu...  1.0  "
      ]
     },
     "execution_count": 7,
     "metadata": {},
     "output_type": "execute_result"
    }
   ],
   "source": [
    "csv.loc[csv[\"Issuer\"] == 'CMS Asset Management (HK) Co., Limited']"
   ]
  },
  {
   "cell_type": "code",
   "execution_count": null,
   "metadata": {},
   "outputs": [],
   "source": []
  }
 ],
 "metadata": {
  "kernelspec": {
   "display_name": "Python 3.9.13 ('base')",
   "language": "python",
   "name": "python3"
  },
  "language_info": {
   "codemirror_mode": {
    "name": "ipython",
    "version": 3
   },
   "file_extension": ".py",
   "mimetype": "text/x-python",
   "name": "python",
   "nbconvert_exporter": "python",
   "pygments_lexer": "ipython3",
   "version": "3.9.13"
  },
  "orig_nbformat": 4,
  "vscode": {
   "interpreter": {
    "hash": "72af1ffc75a182d8026fd8f0e4608e6219cf801f8e77b227b63b94805427af6d"
   }
  }
 },
 "nbformat": 4,
 "nbformat_minor": 2
}
