{
 "cells": [
  {
   "cell_type": "code",
   "execution_count": 1,
   "metadata": {},
   "outputs": [],
   "source": [
    "import pandas as pd \n",
    "import numpy as np\n"
   ]
  },
  {
   "cell_type": "code",
   "execution_count": 1,
   "metadata": {},
   "outputs": [
    {
     "ename": "TypeError",
     "evalue": "extract_text() got an unexpected keyword argument 'visitor_text'",
     "output_type": "error",
     "traceback": [
      "\u001b[1;31m---------------------------------------------------------------------------\u001b[0m",
      "\u001b[1;31mTypeError\u001b[0m                                 Traceback (most recent call last)",
      "Cell \u001b[1;32mIn [1], line 19\u001b[0m\n\u001b[0;32m     15\u001b[0m     \u001b[39mif\u001b[39;00m y \u001b[39m>\u001b[39m \u001b[39m50\u001b[39m \u001b[39mand\u001b[39;00m y \u001b[39m<\u001b[39m \u001b[39m720\u001b[39m:\n\u001b[0;32m     16\u001b[0m         parts\u001b[39m.\u001b[39mappend(text)\n\u001b[1;32m---> 19\u001b[0m page\u001b[39m.\u001b[39;49mextract_text(visitor_text\u001b[39m=\u001b[39;49mvisitor_body)\n\u001b[0;32m     20\u001b[0m text_body \u001b[39m=\u001b[39m \u001b[39m\"\u001b[39m\u001b[39m\"\u001b[39m\u001b[39m.\u001b[39mjoin(parts)\n\u001b[0;32m     22\u001b[0m \u001b[39mprint\u001b[39m(text_body)\n",
      "\u001b[1;31mTypeError\u001b[0m: extract_text() got an unexpected keyword argument 'visitor_text'"
     ]
    }
   ],
   "source": [
    "from PyPDF2 import PdfReader\n",
    "path = \"data/Key_Stats/\"\n",
    "files = os.listdir(path)\n",
    "\n",
    "dir1 = path + files[178]\n",
    "\n",
    "reader = PdfReader(dir1)\n",
    "page = reader.pages[3]\n",
    "\n",
    "parts = []\n",
    "\n",
    "\n",
    "def visitor_body(text, cm, tm, fontDict, fontSize):\n",
    "    y = tm[5]\n",
    "    if y > 50 and y < 720:\n",
    "        parts.append(text)\n",
    "\n",
    "\n",
    "page.extract_text(visitor_text=visitor_body)\n",
    "text_body = \"\".join(parts)\n",
    "\n",
    "print(text_body)"
   ]
  },
  {
   "cell_type": "code",
   "execution_count": null,
   "metadata": {},
   "outputs": [],
   "source": []
  }
 ],
 "metadata": {
  "kernelspec": {
   "display_name": "Python 3.9.13 ('base')",
   "language": "python",
   "name": "python3"
  },
  "language_info": {
   "codemirror_mode": {
    "name": "ipython",
    "version": 3
   },
   "file_extension": ".py",
   "mimetype": "text/x-python",
   "name": "python",
   "nbconvert_exporter": "python",
   "pygments_lexer": "ipython3",
   "version": "3.9.13"
  },
  "orig_nbformat": 4,
  "vscode": {
   "interpreter": {
    "hash": "72af1ffc75a182d8026fd8f0e4608e6219cf801f8e77b227b63b94805427af6d"
   }
  }
 },
 "nbformat": 4,
 "nbformat_minor": 2
}
