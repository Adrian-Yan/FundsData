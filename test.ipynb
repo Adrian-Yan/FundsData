{
 "cells": [
  {
   "cell_type": "markdown",
   "metadata": {},
   "source": [
    "### Part 1. Get the list of unlisted products"
   ]
  },
  {
   "cell_type": "code",
   "execution_count": 5,
   "metadata": {},
   "outputs": [],
   "source": [
    "import pandas as pd \n",
    "import numpy as np\n",
    "import selenium\n",
    "from selenium import webdriver\n",
    "import time\n",
    "import re\n",
    "from selenium.webdriver.common.by import By\n",
    "\n",
    "browser = webdriver.Chrome(r\"C:\\Program Files\\Development\\chromedriver.exe\")\n",
    "url = \"https://apps.sfc.hk/productlistWeb/searchProduct/UTMF.do\"\n",
    "browser.get(url)"
   ]
  },
  {
   "cell_type": "code",
   "execution_count": 6,
   "metadata": {},
   "outputs": [],
   "source": [
    "browser.find_element_by_xpath(\"//*[@id=\\\"searchResult_UTMFCard\\\"]/div[1]/div[2]/label[1]\").click()\n",
    "table = browser.find_elements_by_xpath(\"//*[@id=\\\"productListForm\\\"]/div[3]\")[0]\n",
    "fund_list = pd.read_html(table.get_attribute('outerHTML'), header=0)[0]\n"
   ]
  },
  {
   "cell_type": "markdown",
   "metadata": {},
   "source": [
    "- 1: All\n",
    "\n",
    "- 2: Funds under Chapter 7 of the Code on Unit Trusts and Mutual Funds (excluding funds with guaranteed features)\n",
    "\n",
    "- 3: Unit Portfolio Management Funds (Ch 8.1)\n",
    "\n",
    "- 4: Money Market Funds (Ch 8.2)\n",
    "\n",
    "- 5: Futures and Options Funds (Ch 8.4A)\n",
    "\n",
    "- 6: Funds with guaranteed features\n",
    "\n",
    "- 7: Index Funds (Ch 8.6)\n",
    "\n",
    "- 8: Hedge Funds (Ch 8.7)\n",
    "\n",
    "- 9: Structured Funds (Ch 8.8)\n",
    "\n",
    "- 10: Funds that invest extensively in financial derivative instruments (Ch 8.9)\n",
    "\n",
    "- 11: UCITS Funds\n",
    "\n",
    "- 12: Recognised Mainland Funds\n",
    "\n",
    "- 13: Recognised Malaysian Islamic Funds\n",
    "\n",
    "- 14: Recognised Luxembourg UCITS Funds"
   ]
  },
  {
   "cell_type": "code",
   "execution_count": 7,
   "metadata": {},
   "outputs": [],
   "source": [
    "type_dict = {1: 'All', 2: 'Funds under Chapter 7 of the Code on Unit Trusts and Mutual Funds (excluding funds with guaranteed features)', 3: 'Unit Portfolio Management Funds (Ch 8.1)', 4: 'Money Market Funds (Ch 8.2)', 5: 'Futures and Options Funds (Ch 8.4A)', 6: 'Funds with guaranteed features', 7: 'Index Funds (Ch 8.6)', 8: 'Hedge Funds (Ch 8.7)', 9: 'Structured Funds (Ch 8.8)', 10: 'Funds that invest extensively in financial derivative instruments (Ch 8.9)', 11: 'UCITS Funds', 12: 'Recognised Mainland Funds', 13: 'Recognised Malaysian Islamic Funds', 14: 'Recognised Luxembourg UCITS Funds'}\n",
    "for n in range(2,15):\n",
    "#for n in range(2,3):\n",
    "    browser.find_element_by_xpath(\"//*[@id=\\\"searchResult_UTMFCard\\\"]/div[1]/div[2]/label[{}]\".format(n)).click()\n",
    "    time.sleep(1)\n",
    "    num_fund = int(re.findall(r'\\d+', browser.find_element_by_xpath(\"//*[@id=\\\"productListForm\\\"]/p[1]\").text)[0])\n",
    "    if num_fund == 0:\n",
    "        continue\n",
    "    else:\n",
    "        table = browser.find_elements_by_xpath(\"//*[@id=\\\"productListForm\\\"]/div[3]\")[0]\n",
    "        type_list = pd.read_html(table.get_attribute('outerHTML'), header=0)[0]\n",
    "        type_list['type_{}'.format(n)] = n\n",
    "        fund_list = pd.merge(fund_list, type_list.astype(str), how='left')\n",
    "    time.sleep(1)"
   ]
  },
  {
   "cell_type": "code",
   "execution_count": 20,
   "metadata": {},
   "outputs": [],
   "source": [
    "fund_list = pd.read_csv('data/temp/fund_list.csv')\n",
    "type_list = fund_list.iloc[:,6:].fillna(0).astype(int).sum(axis=1)\n",
    "\n",
    "fund_list = fund_list.iloc[:,0:6]\n",
    "fund_list['type'] = type_list\n",
    "\n"
   ]
  },
  {
   "cell_type": "code",
   "execution_count": 21,
   "metadata": {},
   "outputs": [],
   "source": [
    "fund_list.to_csv('data/temp/fund_list_type.csv', index=False)\n"
   ]
  },
  {
   "cell_type": "code",
   "execution_count": null,
   "metadata": {},
   "outputs": [],
   "source": []
  }
 ],
 "metadata": {
  "kernelspec": {
   "display_name": "Python 3.9.13 ('base')",
   "language": "python",
   "name": "python3"
  },
  "language_info": {
   "codemirror_mode": {
    "name": "ipython",
    "version": 3
   },
   "file_extension": ".py",
   "mimetype": "text/x-python",
   "name": "python",
   "nbconvert_exporter": "python",
   "pygments_lexer": "ipython3",
   "version": "3.9.13"
  },
  "orig_nbformat": 4,
  "vscode": {
   "interpreter": {
    "hash": "72af1ffc75a182d8026fd8f0e4608e6219cf801f8e77b227b63b94805427af6d"
   }
  }
 },
 "nbformat": 4,
 "nbformat_minor": 2
}
