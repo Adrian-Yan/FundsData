{
 "cells": [
  {
   "cell_type": "code",
   "execution_count": null,
   "metadata": {},
   "outputs": [],
   "source": [
    "import pdfplumber\n",
    "import os\n",
    "import re\n",
    "import pandas as pd\n",
    "import numpy as np\n",
    "\n",
    "path = \"data/Key_Stats/\"\n",
    "files = os.listdir(path)\n"
   ]
  }
 ],
 "metadata": {
  "kernelspec": {
   "display_name": "Python 3.9.13 ('base')",
   "language": "python",
   "name": "python3"
  },
  "language_info": {
   "name": "python",
   "version": "3.9.13"
  },
  "orig_nbformat": 4,
  "vscode": {
   "interpreter": {
    "hash": "72af1ffc75a182d8026fd8f0e4608e6219cf801f8e77b227b63b94805427af6d"
   }
  }
 },
 "nbformat": 4,
 "nbformat_minor": 2
}
