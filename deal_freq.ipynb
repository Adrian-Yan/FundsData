{
 "cells": [
  {
   "cell_type": "code",
   "execution_count": 1,
   "metadata": {},
   "outputs": [],
   "source": [
    "import pdfplumber\n",
    "import os\n",
    "import re\n",
    "import pandas as pd\n",
    "import numpy as np\n",
    "\n",
    "path = \"data/Key_Stats/\"\n",
    "files = os.listdir(path)\n",
    "\n",
    "def read_pages(dir):\n",
    "    with pdfplumber.open(dir) as pdf:\n",
    "        text = ''\n",
    "        for page in pdf.pages:\n",
    "            text += page.extract_text()\n",
    "    return text\n",
    "\n",
    "def full_text(text):\n",
    "    text = re.sub(r'[^\\x00-\\x7F]+',' ', text) # only english\n",
    "    text = re.sub(r'[\\n\\t]+', ' ', text) # delete '\\n' and '\\t'\n",
    "    text = re.sub(r' +', ' ', text) # delete multiple spaces\n",
    "    return text\n",
    "\n",
    "def file_id(file):\n",
    "    pattern = r'[A-Z]{3,3}[0-9]{3,3}'\n",
    "    return re.findall(pattern, file)"
   ]
  },
  {
   "cell_type": "code",
   "execution_count": 15,
   "metadata": {},
   "outputs": [],
   "source": [
    "pattern1 = r'day|daily'\n",
    "pattern2 = r'week|weekly'\n",
    "pattern3 = r\"month|month's\"\n",
    "fund_freq = pd.DataFrame(columns=['file_id', 'freq'])\n",
    "\n",
    "\n",
    "for i in range(len(files)):\n",
    "#for i in range(100):\n",
    "    doc_dir = path + files[i]\n",
    "    raw = read_pages(doc_dir)\n",
    "    text = full_text(raw).lower()\n",
    "    ID = file_id(files[i])\n",
    "    \n",
    "    freq_loc = text.find('dealing frequency')\n",
    "    text_freq = text[freq_loc:freq_loc+100]\n",
    "    #fee_list = ['subscription', 'switching', 'redemption', 'investment management', 'trustee', 'performance', 'admin']\n",
    "    #fee_table = pd.DataFrame(columns = ['id'] + fee_list)\n",
    "    freq_fund = pd.DataFrame(columns=['file_id', 'freq'])\n",
    "    freq_fund['file_id'] = ID\n",
    "    if re.search(pattern3, text_freq):\n",
    "        freq_fund['freq'] = 'monthly'\n",
    "    elif re.search(pattern2, text_freq):\n",
    "        freq_fund['freq'] = 'weekly'\n",
    "    elif re.search(pattern1, text_freq):\n",
    "        freq_fund['freq'] = 'daily'\n",
    "    \n",
    "    \n",
    "    fund_freq = pd.concat([fund_freq, freq_fund], axis=0)\n",
    "    "
   ]
  },
  {
   "cell_type": "code",
   "execution_count": 13,
   "metadata": {},
   "outputs": [
    {
     "name": "stdout",
     "output_type": "stream",
     "text": [
      "808\n"
     ]
    }
   ],
   "source": [
    "for i in range(len(files)):\n",
    "    doc_dir = path + files[i]\n",
    "    if file_id(files[i]) == ['AZU904']:\n",
    "        print(i)"
   ]
  },
  {
   "cell_type": "code",
   "execution_count": 14,
   "metadata": {},
   "outputs": [
    {
     "name": "stdout",
     "output_type": "stream",
     "text": [
      "monthly\n"
     ]
    }
   ],
   "source": [
    "i = 808\n",
    "doc_dir = path + files[i]\n",
    "raw = read_pages(doc_dir)\n",
    "text = full_text(raw).lower()\n",
    "ID = file_id(files[i])\n",
    "\n",
    "freq_loc = text.find('dealing frequency')\n",
    "text_freq = text[freq_loc:freq_loc+100]\n",
    "#fee_list = ['subscription', 'switching', 'redemption', 'investment management', 'trustee', 'performance', 'admin']\n",
    "#fee_table = pd.DataFrame(columns = ['id'] + fee_list)\n",
    "freq_fund = pd.DataFrame(columns=['file_id', 'freq'])\n",
    "freq_fund['file_id'] = ID\n",
    "if re.search(pattern3, text_freq):\n",
    "    print('monthly')\n",
    "elif re.search(pattern2, text_freq):\n",
    "    print('weekly')\n",
    "elif re.search(pattern1, text_freq):\n",
    "    print('daily')"
   ]
  },
  {
   "cell_type": "code",
   "execution_count": 17,
   "metadata": {},
   "outputs": [],
   "source": [
    "fund_freq.to_csv('data/fund_freq.csv', index=False)"
   ]
  },
  {
   "cell_type": "code",
   "execution_count": null,
   "metadata": {},
   "outputs": [],
   "source": []
  }
 ],
 "metadata": {
  "kernelspec": {
   "display_name": "Python 3.9.13 ('base')",
   "language": "python",
   "name": "python3"
  },
  "language_info": {
   "codemirror_mode": {
    "name": "ipython",
    "version": 3
   },
   "file_extension": ".py",
   "mimetype": "text/x-python",
   "name": "python",
   "nbconvert_exporter": "python",
   "pygments_lexer": "ipython3",
   "version": "3.9.13"
  },
  "orig_nbformat": 4,
  "vscode": {
   "interpreter": {
    "hash": "72af1ffc75a182d8026fd8f0e4608e6219cf801f8e77b227b63b94805427af6d"
   }
  }
 },
 "nbformat": 4,
 "nbformat_minor": 2
}
